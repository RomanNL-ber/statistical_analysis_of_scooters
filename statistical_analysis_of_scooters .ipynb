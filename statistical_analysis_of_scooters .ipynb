{
 "cells": [
  {
   "cell_type": "markdown",
   "id": "44dda260",
   "metadata": {},
   "source": [
    "----------------------"
   ]
  },
  {
   "cell_type": "markdown",
   "id": "b697b5ec",
   "metadata": {},
   "source": [
    "<span style=\"font-size: 26px;\"><b>Анализ данных сервиса аренды самокатов GoFast</b></span> "
   ]
  },
  {
   "cell_type": "markdown",
   "id": "fa0563df",
   "metadata": {},
   "source": [
    "Сервис аренды самокатов становится весьма популярным видом бизнеса. Для его развития необходим регулярный анализ и оценка условий рынка и эффективности используемых инструментов. В данном проекте оценивается влияние наличия или отсутствия подписки на параметры сессий и ежемесячную выручку. Также стоит задача оценки количества промокодов для привлечения определенного количества клиентов и задача оценки эффективности отправки определенного количества уведомлений клиентам.\n",
    "\n",
    "Для проведения анализа нам предоставлено 3 датафрейма с данными о пользователях, поездках и подписках. В ходе работы мы изучим данные с датафреймов, проведем их предобработку, приведем к нужному типу данных, выявим пустые ячейки и удалим дубликаты при наличии. Далее обобщим информацию в виде графиков и проверим наличие выбросов. Сздадим сводный датафрейм с полной информацией о пользователях, их поездках и подписках, который разделим на два отдельных по принципу наличия или отсутствия подписки. Построим графики и сравним расстояния и  время поездок пользователей в зависимости от наличия подписки. Далее проведем рассчет ежемесячной выручки и проверим гипотезы  о влиянии наличия подписки на среднее время и расстояние поездок, а также на помесячную выручку от пользователей. Опишем порядок проверки гипотезы о влиянии обновления сервера на количество обращений в поддержку. Дополнительно решим задачу о необходимом количестве промокодов для привлечения определенного количества пользователей с заданной вероятностью. Также решим задачу о вероятности открытия push-уведомлений определенным числом пользователей, при заданном количестве планируемых к отправке уведомлений. Сделаем вывод о том выгодны ли пользователи с подпиской для компании.\n"
   ]
  },
  {
   "cell_type": "code",
   "execution_count": 1,
   "id": "f97858a4",
   "metadata": {},
   "outputs": [],
   "source": [
    "from scipy import stats as st \n",
    "from math import sqrt\n",
    "import pandas as pd\n",
    "import numpy as np\n",
    "import matplotlib.pyplot as plt\n",
    "import seaborn as sns\n",
    "\n",
    "pd.set_option('display.max_columns', None)"
   ]
  },
  {
   "cell_type": "markdown",
   "id": "2f149c88",
   "metadata": {},
   "source": [
    "#### Шаг 1. Загрузка данных"
   ]
  },
  {
   "cell_type": "markdown",
   "id": "ff0babc3",
   "metadata": {},
   "source": [
    "Загружаем информацию о пользователях и выводим статистику и данные первых 10 строк"
   ]
  },
  {
   "cell_type": "code",
   "execution_count": 2,
   "id": "7ee73e73",
   "metadata": {},
   "outputs": [
    {
     "name": "stdout",
     "output_type": "stream",
     "text": [
      "<class 'pandas.core.frame.DataFrame'>\n",
      "RangeIndex: 1565 entries, 0 to 1564\n",
      "Data columns (total 5 columns):\n",
      " #   Column             Non-Null Count  Dtype \n",
      "---  ------             --------------  ----- \n",
      " 0   user_id            1565 non-null   int64 \n",
      " 1   name               1565 non-null   object\n",
      " 2   age                1565 non-null   int64 \n",
      " 3   city               1565 non-null   object\n",
      " 4   subscription_type  1565 non-null   object\n",
      "dtypes: int64(2), object(3)\n",
      "memory usage: 61.3+ KB\n"
     ]
    },
    {
     "data": {
      "text/html": [
       "<div>\n",
       "<style scoped>\n",
       "    .dataframe tbody tr th:only-of-type {\n",
       "        vertical-align: middle;\n",
       "    }\n",
       "\n",
       "    .dataframe tbody tr th {\n",
       "        vertical-align: top;\n",
       "    }\n",
       "\n",
       "    .dataframe thead th {\n",
       "        text-align: right;\n",
       "    }\n",
       "</style>\n",
       "<table border=\"1\" class=\"dataframe\">\n",
       "  <thead>\n",
       "    <tr style=\"text-align: right;\">\n",
       "      <th></th>\n",
       "      <th>user_id</th>\n",
       "      <th>name</th>\n",
       "      <th>age</th>\n",
       "      <th>city</th>\n",
       "      <th>subscription_type</th>\n",
       "    </tr>\n",
       "  </thead>\n",
       "  <tbody>\n",
       "    <tr>\n",
       "      <th>0</th>\n",
       "      <td>1</td>\n",
       "      <td>Кира</td>\n",
       "      <td>22</td>\n",
       "      <td>Тюмень</td>\n",
       "      <td>ultra</td>\n",
       "    </tr>\n",
       "    <tr>\n",
       "      <th>1</th>\n",
       "      <td>2</td>\n",
       "      <td>Станислав</td>\n",
       "      <td>31</td>\n",
       "      <td>Омск</td>\n",
       "      <td>ultra</td>\n",
       "    </tr>\n",
       "    <tr>\n",
       "      <th>2</th>\n",
       "      <td>3</td>\n",
       "      <td>Алексей</td>\n",
       "      <td>20</td>\n",
       "      <td>Москва</td>\n",
       "      <td>ultra</td>\n",
       "    </tr>\n",
       "    <tr>\n",
       "      <th>3</th>\n",
       "      <td>4</td>\n",
       "      <td>Константин</td>\n",
       "      <td>26</td>\n",
       "      <td>Ростов-на-Дону</td>\n",
       "      <td>ultra</td>\n",
       "    </tr>\n",
       "    <tr>\n",
       "      <th>4</th>\n",
       "      <td>5</td>\n",
       "      <td>Адель</td>\n",
       "      <td>28</td>\n",
       "      <td>Омск</td>\n",
       "      <td>ultra</td>\n",
       "    </tr>\n",
       "    <tr>\n",
       "      <th>5</th>\n",
       "      <td>6</td>\n",
       "      <td>Регина</td>\n",
       "      <td>25</td>\n",
       "      <td>Краснодар</td>\n",
       "      <td>ultra</td>\n",
       "    </tr>\n",
       "    <tr>\n",
       "      <th>6</th>\n",
       "      <td>7</td>\n",
       "      <td>Игорь</td>\n",
       "      <td>23</td>\n",
       "      <td>Омск</td>\n",
       "      <td>ultra</td>\n",
       "    </tr>\n",
       "    <tr>\n",
       "      <th>7</th>\n",
       "      <td>8</td>\n",
       "      <td>Юрий</td>\n",
       "      <td>23</td>\n",
       "      <td>Краснодар</td>\n",
       "      <td>ultra</td>\n",
       "    </tr>\n",
       "    <tr>\n",
       "      <th>8</th>\n",
       "      <td>9</td>\n",
       "      <td>Ян</td>\n",
       "      <td>21</td>\n",
       "      <td>Пятигорск</td>\n",
       "      <td>ultra</td>\n",
       "    </tr>\n",
       "    <tr>\n",
       "      <th>9</th>\n",
       "      <td>10</td>\n",
       "      <td>Валерий</td>\n",
       "      <td>18</td>\n",
       "      <td>Екатеринбург</td>\n",
       "      <td>ultra</td>\n",
       "    </tr>\n",
       "  </tbody>\n",
       "</table>\n",
       "</div>"
      ],
      "text/plain": [
       "   user_id        name  age            city subscription_type\n",
       "0        1        Кира   22          Тюмень             ultra\n",
       "1        2   Станислав   31            Омск             ultra\n",
       "2        3     Алексей   20          Москва             ultra\n",
       "3        4  Константин   26  Ростов-на-Дону             ultra\n",
       "4        5       Адель   28            Омск             ultra\n",
       "5        6      Регина   25       Краснодар             ultra\n",
       "6        7       Игорь   23            Омск             ultra\n",
       "7        8        Юрий   23       Краснодар             ultra\n",
       "8        9          Ян   21       Пятигорск             ultra\n",
       "9       10     Валерий   18    Екатеринбург             ultra"
      ]
     },
     "execution_count": 2,
     "metadata": {},
     "output_type": "execute_result"
    }
   ],
   "source": [
    "data_users = pd.read_csv('/datasets/users_go.csv')\n",
    "data_users.info()\n",
    "data_users.head(10)"
   ]
  },
  {
   "cell_type": "markdown",
   "id": "bfcb269f",
   "metadata": {},
   "source": [
    "Загружаем информацию о поездках пользователей и выводим статистику и данные первых 10 строк"
   ]
  },
  {
   "cell_type": "code",
   "execution_count": 3,
   "id": "223e2b3e",
   "metadata": {},
   "outputs": [
    {
     "name": "stdout",
     "output_type": "stream",
     "text": [
      "<class 'pandas.core.frame.DataFrame'>\n",
      "RangeIndex: 18068 entries, 0 to 18067\n",
      "Data columns (total 4 columns):\n",
      " #   Column    Non-Null Count  Dtype  \n",
      "---  ------    --------------  -----  \n",
      " 0   user_id   18068 non-null  int64  \n",
      " 1   distance  18068 non-null  float64\n",
      " 2   duration  18068 non-null  float64\n",
      " 3   date      18068 non-null  object \n",
      "dtypes: float64(2), int64(1), object(1)\n",
      "memory usage: 564.8+ KB\n"
     ]
    },
    {
     "data": {
      "text/html": [
       "<div>\n",
       "<style scoped>\n",
       "    .dataframe tbody tr th:only-of-type {\n",
       "        vertical-align: middle;\n",
       "    }\n",
       "\n",
       "    .dataframe tbody tr th {\n",
       "        vertical-align: top;\n",
       "    }\n",
       "\n",
       "    .dataframe thead th {\n",
       "        text-align: right;\n",
       "    }\n",
       "</style>\n",
       "<table border=\"1\" class=\"dataframe\">\n",
       "  <thead>\n",
       "    <tr style=\"text-align: right;\">\n",
       "      <th></th>\n",
       "      <th>user_id</th>\n",
       "      <th>distance</th>\n",
       "      <th>duration</th>\n",
       "      <th>date</th>\n",
       "    </tr>\n",
       "  </thead>\n",
       "  <tbody>\n",
       "    <tr>\n",
       "      <th>0</th>\n",
       "      <td>1</td>\n",
       "      <td>4409.919140</td>\n",
       "      <td>25.599769</td>\n",
       "      <td>2021-01-01</td>\n",
       "    </tr>\n",
       "    <tr>\n",
       "      <th>1</th>\n",
       "      <td>1</td>\n",
       "      <td>2617.592153</td>\n",
       "      <td>15.816871</td>\n",
       "      <td>2021-01-18</td>\n",
       "    </tr>\n",
       "    <tr>\n",
       "      <th>2</th>\n",
       "      <td>1</td>\n",
       "      <td>754.159807</td>\n",
       "      <td>6.232113</td>\n",
       "      <td>2021-04-20</td>\n",
       "    </tr>\n",
       "    <tr>\n",
       "      <th>3</th>\n",
       "      <td>1</td>\n",
       "      <td>2694.783254</td>\n",
       "      <td>18.511000</td>\n",
       "      <td>2021-08-11</td>\n",
       "    </tr>\n",
       "    <tr>\n",
       "      <th>4</th>\n",
       "      <td>1</td>\n",
       "      <td>4028.687306</td>\n",
       "      <td>26.265803</td>\n",
       "      <td>2021-08-28</td>\n",
       "    </tr>\n",
       "    <tr>\n",
       "      <th>5</th>\n",
       "      <td>1</td>\n",
       "      <td>2770.890808</td>\n",
       "      <td>16.650138</td>\n",
       "      <td>2021-10-09</td>\n",
       "    </tr>\n",
       "    <tr>\n",
       "      <th>6</th>\n",
       "      <td>1</td>\n",
       "      <td>3039.020292</td>\n",
       "      <td>14.927879</td>\n",
       "      <td>2021-10-19</td>\n",
       "    </tr>\n",
       "    <tr>\n",
       "      <th>7</th>\n",
       "      <td>1</td>\n",
       "      <td>2842.118050</td>\n",
       "      <td>23.117468</td>\n",
       "      <td>2021-11-06</td>\n",
       "    </tr>\n",
       "    <tr>\n",
       "      <th>8</th>\n",
       "      <td>1</td>\n",
       "      <td>3412.690668</td>\n",
       "      <td>15.238072</td>\n",
       "      <td>2021-11-14</td>\n",
       "    </tr>\n",
       "    <tr>\n",
       "      <th>9</th>\n",
       "      <td>1</td>\n",
       "      <td>748.690645</td>\n",
       "      <td>15.041884</td>\n",
       "      <td>2021-11-22</td>\n",
       "    </tr>\n",
       "  </tbody>\n",
       "</table>\n",
       "</div>"
      ],
      "text/plain": [
       "   user_id     distance   duration        date\n",
       "0        1  4409.919140  25.599769  2021-01-01\n",
       "1        1  2617.592153  15.816871  2021-01-18\n",
       "2        1   754.159807   6.232113  2021-04-20\n",
       "3        1  2694.783254  18.511000  2021-08-11\n",
       "4        1  4028.687306  26.265803  2021-08-28\n",
       "5        1  2770.890808  16.650138  2021-10-09\n",
       "6        1  3039.020292  14.927879  2021-10-19\n",
       "7        1  2842.118050  23.117468  2021-11-06\n",
       "8        1  3412.690668  15.238072  2021-11-14\n",
       "9        1   748.690645  15.041884  2021-11-22"
      ]
     },
     "execution_count": 3,
     "metadata": {},
     "output_type": "execute_result"
    }
   ],
   "source": [
    "data_rides = pd.read_csv('/datasets/rides_go.csv')\n",
    "data_rides.info()\n",
    "data_rides.head(10)"
   ]
  },
  {
   "cell_type": "markdown",
   "id": "f45512f2",
   "metadata": {},
   "source": [
    "Загружаем информацию о подписках пользователей и выводим статистику и данные первых 10 строк"
   ]
  },
  {
   "cell_type": "code",
   "execution_count": 4,
   "id": "1d378adb",
   "metadata": {},
   "outputs": [
    {
     "name": "stdout",
     "output_type": "stream",
     "text": [
      "<class 'pandas.core.frame.DataFrame'>\n",
      "RangeIndex: 2 entries, 0 to 1\n",
      "Data columns (total 4 columns):\n",
      " #   Column             Non-Null Count  Dtype \n",
      "---  ------             --------------  ----- \n",
      " 0   subscription_type  2 non-null      object\n",
      " 1   minute_price       2 non-null      int64 \n",
      " 2   start_ride_price   2 non-null      int64 \n",
      " 3   subscription_fee   2 non-null      int64 \n",
      "dtypes: int64(3), object(1)\n",
      "memory usage: 192.0+ bytes\n"
     ]
    },
    {
     "data": {
      "text/html": [
       "<div>\n",
       "<style scoped>\n",
       "    .dataframe tbody tr th:only-of-type {\n",
       "        vertical-align: middle;\n",
       "    }\n",
       "\n",
       "    .dataframe tbody tr th {\n",
       "        vertical-align: top;\n",
       "    }\n",
       "\n",
       "    .dataframe thead th {\n",
       "        text-align: right;\n",
       "    }\n",
       "</style>\n",
       "<table border=\"1\" class=\"dataframe\">\n",
       "  <thead>\n",
       "    <tr style=\"text-align: right;\">\n",
       "      <th></th>\n",
       "      <th>subscription_type</th>\n",
       "      <th>minute_price</th>\n",
       "      <th>start_ride_price</th>\n",
       "      <th>subscription_fee</th>\n",
       "    </tr>\n",
       "  </thead>\n",
       "  <tbody>\n",
       "    <tr>\n",
       "      <th>0</th>\n",
       "      <td>free</td>\n",
       "      <td>8</td>\n",
       "      <td>50</td>\n",
       "      <td>0</td>\n",
       "    </tr>\n",
       "    <tr>\n",
       "      <th>1</th>\n",
       "      <td>ultra</td>\n",
       "      <td>6</td>\n",
       "      <td>0</td>\n",
       "      <td>199</td>\n",
       "    </tr>\n",
       "  </tbody>\n",
       "</table>\n",
       "</div>"
      ],
      "text/plain": [
       "  subscription_type  minute_price  start_ride_price  subscription_fee\n",
       "0              free             8                50                 0\n",
       "1             ultra             6                 0               199"
      ]
     },
     "execution_count": 4,
     "metadata": {},
     "output_type": "execute_result"
    }
   ],
   "source": [
    "data_subscriptions = pd.read_csv('/datasets/subscriptions_go.csv')\n",
    "data_subscriptions.info()\n",
    "data_subscriptions.head(10)"
   ]
  },
  {
   "cell_type": "markdown",
   "id": "2868afe8",
   "metadata": {},
   "source": [
    "Данные полные, без пропусков. Названия столбцов корректны, типы данных соответствуют содержимому, кроме столбца даты. Надо привести столбец date к типу даты pandas. Из данных следует, что всего 1565 пользователей, совершивших суммарно 18068 поездок и имеющих 2 типа подписок."
   ]
  },
  {
   "cell_type": "markdown",
   "id": "b5e072c0",
   "metadata": {},
   "source": [
    "#### Шаг 2. Предобработка данных"
   ]
  },
  {
   "cell_type": "markdown",
   "id": "a5aef909",
   "metadata": {},
   "source": [
    "Приведем столбец date к типу даты pandas."
   ]
  },
  {
   "cell_type": "code",
   "execution_count": 5,
   "id": "f1fa870f",
   "metadata": {},
   "outputs": [
    {
     "name": "stdout",
     "output_type": "stream",
     "text": [
      "<class 'pandas.core.frame.DataFrame'>\n",
      "RangeIndex: 18068 entries, 0 to 18067\n",
      "Data columns (total 4 columns):\n",
      " #   Column    Non-Null Count  Dtype         \n",
      "---  ------    --------------  -----         \n",
      " 0   user_id   18068 non-null  int64         \n",
      " 1   distance  18068 non-null  float64       \n",
      " 2   duration  18068 non-null  float64       \n",
      " 3   date      18068 non-null  datetime64[ns]\n",
      "dtypes: datetime64[ns](1), float64(2), int64(1)\n",
      "memory usage: 564.8 KB\n"
     ]
    }
   ],
   "source": [
    "data_rides['date'] = pd.to_datetime(data_rides['date'], format='%Y-%m-%d')# перевод даты первой публикации в формат datetime64 \n",
    "data_rides.info()"
   ]
  },
  {
   "cell_type": "markdown",
   "id": "8b4ac115",
   "metadata": {},
   "source": [
    "Проверим за какой период присутствуют данные в датасете."
   ]
  },
  {
   "cell_type": "code",
   "execution_count": 6,
   "id": "540edcbb",
   "metadata": {},
   "outputs": [
    {
     "name": "stdout",
     "output_type": "stream",
     "text": [
      "Минимальная дата: 2021-01-01 00:00:00\n",
      "Максимальная дата: 2021-12-30 00:00:00\n"
     ]
    }
   ],
   "source": [
    "print('Минимальная дата:', data_rides['date'].min())\n",
    "print('Максимальная дата:', data_rides['date'].max())"
   ]
  },
  {
   "cell_type": "markdown",
   "id": "3edfac21",
   "metadata": {},
   "source": [
    "Все данные о поездках только за 2021 год."
   ]
  },
  {
   "cell_type": "markdown",
   "id": "a4ea3246",
   "metadata": {},
   "source": [
    "Добавим столбец с номером месяца в датасет поездок."
   ]
  },
  {
   "cell_type": "code",
   "execution_count": 7,
   "id": "dffd8c8c",
   "metadata": {},
   "outputs": [],
   "source": [
    "data_rides['month'] = data_rides['date'].dt.month"
   ]
  },
  {
   "cell_type": "markdown",
   "id": "bed81ced",
   "metadata": {},
   "source": [
    "Проверим возможность наличия неявных дубликатов. Для этого проверим колонку городов в датасете данных пользователей."
   ]
  },
  {
   "cell_type": "code",
   "execution_count": 8,
   "id": "b859fcd3",
   "metadata": {},
   "outputs": [
    {
     "name": "stdout",
     "output_type": "stream",
     "text": [
      "Екатеринбург\n",
      "Краснодар\n",
      "Москва\n",
      "Омск\n",
      "Пятигорск\n",
      "Ростов-на-Дону\n",
      "Сочи\n",
      "Тюмень\n",
      "\n"
     ]
    }
   ],
   "source": [
    "print(*data_users['city'].sort_values().unique(), sep=\"\\n\", end=\"\\n\\n\") # сортировка таблицы по наименования,\n",
    "                                                                        #получение уникальных значений населенного пункта и вывод списка в виде столбца"
   ]
  },
  {
   "cell_type": "markdown",
   "id": "da7a3307",
   "metadata": {},
   "source": [
    "Неявных дубликатов нет."
   ]
  },
  {
   "cell_type": "markdown",
   "id": "59cbc40e",
   "metadata": {},
   "source": [
    "Проверим наличие дубликатов в датасетах с данными пользователец и поездок."
   ]
  },
  {
   "cell_type": "code",
   "execution_count": 9,
   "id": "7d8ef702",
   "metadata": {},
   "outputs": [
    {
     "data": {
      "text/plain": [
       "31"
      ]
     },
     "execution_count": 9,
     "metadata": {},
     "output_type": "execute_result"
    }
   ],
   "source": [
    "data_users.duplicated().sum()"
   ]
  },
  {
   "cell_type": "code",
   "execution_count": 10,
   "id": "faa70611",
   "metadata": {},
   "outputs": [
    {
     "data": {
      "text/plain": [
       "0"
      ]
     },
     "execution_count": 10,
     "metadata": {},
     "output_type": "execute_result"
    }
   ],
   "source": [
    "data_rides.duplicated().sum()"
   ]
  },
  {
   "cell_type": "markdown",
   "id": "0b598468",
   "metadata": {},
   "source": [
    "Удалим дубликаты из датасета с данными пользователей."
   ]
  },
  {
   "cell_type": "code",
   "execution_count": 11,
   "id": "20bcaba8",
   "metadata": {},
   "outputs": [
    {
     "name": "stdout",
     "output_type": "stream",
     "text": [
      "<class 'pandas.core.frame.DataFrame'>\n",
      "RangeIndex: 1534 entries, 0 to 1533\n",
      "Data columns (total 5 columns):\n",
      " #   Column             Non-Null Count  Dtype \n",
      "---  ------             --------------  ----- \n",
      " 0   user_id            1534 non-null   int64 \n",
      " 1   name               1534 non-null   object\n",
      " 2   age                1534 non-null   int64 \n",
      " 3   city               1534 non-null   object\n",
      " 4   subscription_type  1534 non-null   object\n",
      "dtypes: int64(2), object(3)\n",
      "memory usage: 60.0+ KB\n"
     ]
    }
   ],
   "source": [
    "data_users = data_users.drop_duplicates().reset_index(drop=True)\n",
    "data_users.info()"
   ]
  },
  {
   "cell_type": "markdown",
   "id": "ed7b367d",
   "metadata": {},
   "source": [
    "Дубликаты удалены, количество пользователей уменьшилось на 31."
   ]
  },
  {
   "cell_type": "markdown",
   "id": "f0028053",
   "metadata": {},
   "source": [
    "#### Шаг 3. Исследовательский анализ данных"
   ]
  },
  {
   "cell_type": "markdown",
   "id": "6e4ed171",
   "metadata": {},
   "source": [
    "Построим графики из датафреймов для обобщения информации и выявления наличие локальных выбросов."
   ]
  },
  {
   "cell_type": "code",
   "execution_count": 12,
   "id": "b0b6c8f7",
   "metadata": {},
   "outputs": [
    {
     "data": {
      "text/plain": [
       "Пятигорск         219\n",
       "Екатеринбург      204\n",
       "Ростов-на-Дону    198\n",
       "Краснодар         193\n",
       "Сочи              189\n",
       "Омск              183\n",
       "Тюмень            180\n",
       "Москва            168\n",
       "Name: city, dtype: int64"
      ]
     },
     "metadata": {},
     "output_type": "display_data"
    },
    {
     "data": {
      "text/plain": [
       "''"
      ]
     },
     "execution_count": 12,
     "metadata": {},
     "output_type": "execute_result"
    },
    {
     "data": {
      "image/png": "[encoded data removed]",
      "text/plain": [
       "<Figure size 432x288 with 1 Axes>"
      ]
     },
     "metadata": {
      "needs_background": "light"
     },
     "output_type": "display_data"
    }
   ],
   "source": [
    "ax = data_users['city'].value_counts(ascending=True).plot.barh(title=\"Частота встречаемости городов\")\n",
    "plt.xlabel(\"Количество пользователей, ед\", fontsize=10, color='blue')\n",
    "display(data_users['city'].value_counts(sort=True))\n",
    "\"\""
   ]
  },
  {
   "cell_type": "code",
   "execution_count": 13,
   "id": "2f92d555",
   "metadata": {},
   "outputs": [
    {
     "data": {
      "text/plain": [
       "Пятигорск         219\n",
       "Екатеринбург      204\n",
       "Ростов-на-Дону    198\n",
       "Краснодар         193\n",
       "Сочи              189\n",
       "Омск              183\n",
       "Тюмень            180\n",
       "Москва            168\n",
       "Name: city, dtype: int64"
      ]
     },
     "metadata": {},
     "output_type": "display_data"
    }
   ],
   "source": [
    "display(data_users['city'].value_counts(sort=True))"
   ]
  },
  {
   "cell_type": "code",
   "execution_count": 14,
   "id": "688e1b51",
   "metadata": {},
   "outputs": [
    {
     "data": {
      "text/plain": [
       "''"
      ]
     },
     "execution_count": 14,
     "metadata": {},
     "output_type": "execute_result"
    },
    {
     "data": {
      "image/png": "[encoded data removed]",
      "text/plain": [
       "<Figure size 504x504 with 1 Axes>"
      ]
     },
     "metadata": {},
     "output_type": "display_data"
    }
   ],
   "source": [
    "data_users['subscription_type'].value_counts().plot.pie(\n",
    "    autopct='%1.1f%%',\n",
    "    shadow=True,\n",
    "    figsize=(7, 7),\n",
    "    fontsize=18\n",
    ")\n",
    "plt.title('Сотношение пользователей по типу подписки', fontsize=20)\n",
    "\n",
    "\"\""
   ]
  },
  {
   "cell_type": "code",
   "execution_count": 15,
   "id": "c4a626da",
   "metadata": {},
   "outputs": [
    {
     "data": {
      "text/plain": [
       "count    1534.000000\n",
       "mean       24.903520\n",
       "std         4.572367\n",
       "min        12.000000\n",
       "25%        22.000000\n",
       "50%        25.000000\n",
       "75%        28.000000\n",
       "max        43.000000\n",
       "Name: age, dtype: float64"
      ]
     },
     "metadata": {},
     "output_type": "display_data"
    },
    {
     "data": {
      "text/plain": [
       "''"
      ]
     },
     "execution_count": 15,
     "metadata": {},
     "output_type": "execute_result"
    },
    {
     "data": {
      "image/png": "[encoded data removed]",
      "text/plain": [
       "<Figure size 432x288 with 1 Axes>"
      ]
     },
     "metadata": {
      "needs_background": "light"
     },
     "output_type": "display_data"
    }
   ],
   "source": [
    "data_users['age'].hist(bins=30, figsize=(6, 4))\n",
    "plt.title('Гистограмма возрастов пользователей')\n",
    "plt.xlabel(\"Возраст, лет\", fontsize=10, color='blue')\n",
    "plt.ylabel(\"Количество пользователей, ед\", fontsize=10, color='blue')\n",
    "display(data_users['age'].describe())\n",
    "\"\""
   ]
  },
  {
   "cell_type": "code",
   "execution_count": 16,
   "id": "683a3c29",
   "metadata": {},
   "outputs": [
    {
     "data": {
      "text/plain": [
       "count    18068.000000\n",
       "mean      3070.659976\n",
       "std       1116.831209\n",
       "min          0.855683\n",
       "25%       2543.226360\n",
       "50%       3133.609994\n",
       "75%       3776.222735\n",
       "max       7211.007745\n",
       "Name: distance, dtype: float64"
      ]
     },
     "metadata": {},
     "output_type": "display_data"
    },
    {
     "data": {
      "text/plain": [
       "''"
      ]
     },
     "execution_count": 16,
     "metadata": {},
     "output_type": "execute_result"
    },
    {
     "data": {
      "image/png": "[encoded data removed]",
      "text/plain": [
       "<Figure size 432x288 with 1 Axes>"
      ]
     },
     "metadata": {
      "needs_background": "light"
     },
     "output_type": "display_data"
    }
   ],
   "source": [
    "data_rides['distance'].hist(bins=70, figsize=(6, 4))\n",
    "plt.title('Гистограмма расстояния поездок')\n",
    "plt.xlabel(\"Расстояние, метры\", fontsize=10, color='blue')\n",
    "plt.ylabel(\"Количество поездок, ед\", fontsize=10, color='blue')\n",
    "display(data_rides['distance'].describe())\n",
    "\"\""
   ]
  },
  {
   "cell_type": "markdown",
   "id": "5e513471",
   "metadata": {},
   "source": [
    "Посмотрим данные по первому небольшому пику, для этого отсортируем таблицу поездок по расстоянию менее 1500 метров."
   ]
  },
  {
   "cell_type": "code",
   "execution_count": 17,
   "id": "78a1c2f1",
   "metadata": {},
   "outputs": [
    {
     "data": {
      "text/html": [
       "<div>\n",
       "<style scoped>\n",
       "    .dataframe tbody tr th:only-of-type {\n",
       "        vertical-align: middle;\n",
       "    }\n",
       "\n",
       "    .dataframe tbody tr th {\n",
       "        vertical-align: top;\n",
       "    }\n",
       "\n",
       "    .dataframe thead th {\n",
       "        text-align: right;\n",
       "    }\n",
       "</style>\n",
       "<table border=\"1\" class=\"dataframe\">\n",
       "  <thead>\n",
       "    <tr style=\"text-align: right;\">\n",
       "      <th></th>\n",
       "      <th>user_id</th>\n",
       "      <th>distance</th>\n",
       "      <th>duration</th>\n",
       "      <th>date</th>\n",
       "      <th>month</th>\n",
       "    </tr>\n",
       "  </thead>\n",
       "  <tbody>\n",
       "    <tr>\n",
       "      <th>2</th>\n",
       "      <td>1</td>\n",
       "      <td>754.159807</td>\n",
       "      <td>6.232113</td>\n",
       "      <td>2021-04-20</td>\n",
       "      <td>4</td>\n",
       "    </tr>\n",
       "    <tr>\n",
       "      <th>9</th>\n",
       "      <td>1</td>\n",
       "      <td>748.690645</td>\n",
       "      <td>15.041884</td>\n",
       "      <td>2021-11-22</td>\n",
       "      <td>11</td>\n",
       "    </tr>\n",
       "    <tr>\n",
       "      <th>20</th>\n",
       "      <td>2</td>\n",
       "      <td>923.007439</td>\n",
       "      <td>6.914760</td>\n",
       "      <td>2021-08-03</td>\n",
       "      <td>8</td>\n",
       "    </tr>\n",
       "    <tr>\n",
       "      <th>47</th>\n",
       "      <td>4</td>\n",
       "      <td>724.559572</td>\n",
       "      <td>11.811399</td>\n",
       "      <td>2021-11-14</td>\n",
       "      <td>11</td>\n",
       "    </tr>\n",
       "    <tr>\n",
       "      <th>91</th>\n",
       "      <td>9</td>\n",
       "      <td>979.657684</td>\n",
       "      <td>17.521497</td>\n",
       "      <td>2021-03-08</td>\n",
       "      <td>3</td>\n",
       "    </tr>\n",
       "    <tr>\n",
       "      <th>100</th>\n",
       "      <td>10</td>\n",
       "      <td>680.952663</td>\n",
       "      <td>5.150377</td>\n",
       "      <td>2021-02-21</td>\n",
       "      <td>2</td>\n",
       "    </tr>\n",
       "    <tr>\n",
       "      <th>105</th>\n",
       "      <td>10</td>\n",
       "      <td>1409.589386</td>\n",
       "      <td>15.020549</td>\n",
       "      <td>2021-07-02</td>\n",
       "      <td>7</td>\n",
       "    </tr>\n",
       "    <tr>\n",
       "      <th>121</th>\n",
       "      <td>12</td>\n",
       "      <td>1236.815996</td>\n",
       "      <td>9.710448</td>\n",
       "      <td>2021-08-07</td>\n",
       "      <td>8</td>\n",
       "    </tr>\n",
       "    <tr>\n",
       "      <th>132</th>\n",
       "      <td>13</td>\n",
       "      <td>1158.851148</td>\n",
       "      <td>7.345692</td>\n",
       "      <td>2021-10-26</td>\n",
       "      <td>10</td>\n",
       "    </tr>\n",
       "    <tr>\n",
       "      <th>149</th>\n",
       "      <td>15</td>\n",
       "      <td>634.891669</td>\n",
       "      <td>15.809350</td>\n",
       "      <td>2021-04-05</td>\n",
       "      <td>4</td>\n",
       "    </tr>\n",
       "    <tr>\n",
       "      <th>153</th>\n",
       "      <td>15</td>\n",
       "      <td>671.851433</td>\n",
       "      <td>12.031109</td>\n",
       "      <td>2021-11-15</td>\n",
       "      <td>11</td>\n",
       "    </tr>\n",
       "    <tr>\n",
       "      <th>154</th>\n",
       "      <td>16</td>\n",
       "      <td>850.321732</td>\n",
       "      <td>13.125804</td>\n",
       "      <td>2021-02-18</td>\n",
       "      <td>2</td>\n",
       "    </tr>\n",
       "    <tr>\n",
       "      <th>172</th>\n",
       "      <td>18</td>\n",
       "      <td>850.211768</td>\n",
       "      <td>6.400847</td>\n",
       "      <td>2021-04-09</td>\n",
       "      <td>4</td>\n",
       "    </tr>\n",
       "    <tr>\n",
       "      <th>189</th>\n",
       "      <td>19</td>\n",
       "      <td>1233.930434</td>\n",
       "      <td>7.896622</td>\n",
       "      <td>2021-08-05</td>\n",
       "      <td>8</td>\n",
       "    </tr>\n",
       "    <tr>\n",
       "      <th>196</th>\n",
       "      <td>20</td>\n",
       "      <td>1055.626330</td>\n",
       "      <td>13.757962</td>\n",
       "      <td>2021-12-14</td>\n",
       "      <td>12</td>\n",
       "    </tr>\n",
       "    <tr>\n",
       "      <th>197</th>\n",
       "      <td>21</td>\n",
       "      <td>518.341543</td>\n",
       "      <td>10.151870</td>\n",
       "      <td>2021-02-03</td>\n",
       "      <td>2</td>\n",
       "    </tr>\n",
       "    <tr>\n",
       "      <th>204</th>\n",
       "      <td>21</td>\n",
       "      <td>517.912395</td>\n",
       "      <td>14.219625</td>\n",
       "      <td>2021-10-01</td>\n",
       "      <td>10</td>\n",
       "    </tr>\n",
       "    <tr>\n",
       "      <th>207</th>\n",
       "      <td>21</td>\n",
       "      <td>956.645212</td>\n",
       "      <td>15.495596</td>\n",
       "      <td>2021-12-13</td>\n",
       "      <td>12</td>\n",
       "    </tr>\n",
       "    <tr>\n",
       "      <th>214</th>\n",
       "      <td>23</td>\n",
       "      <td>1251.132948</td>\n",
       "      <td>13.002719</td>\n",
       "      <td>2021-02-23</td>\n",
       "      <td>2</td>\n",
       "    </tr>\n",
       "    <tr>\n",
       "      <th>228</th>\n",
       "      <td>24</td>\n",
       "      <td>409.829089</td>\n",
       "      <td>10.294197</td>\n",
       "      <td>2021-04-04</td>\n",
       "      <td>4</td>\n",
       "    </tr>\n",
       "  </tbody>\n",
       "</table>\n",
       "</div>"
      ],
      "text/plain": [
       "     user_id     distance   duration       date  month\n",
       "2          1   754.159807   6.232113 2021-04-20      4\n",
       "9          1   748.690645  15.041884 2021-11-22     11\n",
       "20         2   923.007439   6.914760 2021-08-03      8\n",
       "47         4   724.559572  11.811399 2021-11-14     11\n",
       "91         9   979.657684  17.521497 2021-03-08      3\n",
       "100       10   680.952663   5.150377 2021-02-21      2\n",
       "105       10  1409.589386  15.020549 2021-07-02      7\n",
       "121       12  1236.815996   9.710448 2021-08-07      8\n",
       "132       13  1158.851148   7.345692 2021-10-26     10\n",
       "149       15   634.891669  15.809350 2021-04-05      4\n",
       "153       15   671.851433  12.031109 2021-11-15     11\n",
       "154       16   850.321732  13.125804 2021-02-18      2\n",
       "172       18   850.211768   6.400847 2021-04-09      4\n",
       "189       19  1233.930434   7.896622 2021-08-05      8\n",
       "196       20  1055.626330  13.757962 2021-12-14     12\n",
       "197       21   518.341543  10.151870 2021-02-03      2\n",
       "204       21   517.912395  14.219625 2021-10-01     10\n",
       "207       21   956.645212  15.495596 2021-12-13     12\n",
       "214       23  1251.132948  13.002719 2021-02-23      2\n",
       "228       24   409.829089  10.294197 2021-04-04      4"
      ]
     },
     "metadata": {},
     "output_type": "display_data"
    },
    {
     "name": "stdout",
     "output_type": "stream",
     "text": [
      "<class 'pandas.core.frame.DataFrame'>\n",
      "Int64Index: 1796 entries, 2 to 18058\n",
      "Data columns (total 5 columns):\n",
      " #   Column    Non-Null Count  Dtype         \n",
      "---  ------    --------------  -----         \n",
      " 0   user_id   1796 non-null   int64         \n",
      " 1   distance  1796 non-null   float64       \n",
      " 2   duration  1796 non-null   float64       \n",
      " 3   date      1796 non-null   datetime64[ns]\n",
      " 4   month     1796 non-null   int64         \n",
      "dtypes: datetime64[ns](1), float64(2), int64(2)\n",
      "memory usage: 84.2 KB\n"
     ]
    }
   ],
   "source": [
    "test = data_rides[data_rides['distance'] < 1500]\n",
    "display(test.head(20))\n",
    "test.info()"
   ]
  },
  {
   "cell_type": "code",
   "execution_count": 18,
   "id": "1c77c0cb",
   "metadata": {},
   "outputs": [
    {
     "data": {
      "text/plain": [
       "count    18068.000000\n",
       "mean        17.805011\n",
       "std          6.091051\n",
       "min          0.500000\n",
       "25%         13.597563\n",
       "50%         17.678395\n",
       "75%         21.724800\n",
       "max         40.823963\n",
       "Name: duration, dtype: float64"
      ]
     },
     "metadata": {},
     "output_type": "display_data"
    },
    {
     "data": {
      "text/plain": [
       "''"
      ]
     },
     "execution_count": 18,
     "metadata": {},
     "output_type": "execute_result"
    },
    {
     "data": {
      "image/png": "[encoded data removed]",
      "text/plain": [
       "<Figure size 432x288 with 1 Axes>"
      ]
     },
     "metadata": {
      "needs_background": "light"
     },
     "output_type": "display_data"
    }
   ],
   "source": [
    "data_rides['duration'].hist(bins=40, figsize=(6, 4))\n",
    "plt.title('Гистограмма продолжительности поездок')\n",
    "plt.xlabel(\"Время, минуты\", fontsize=10, color='blue')\n",
    "plt.ylabel(\"Количество поездок, ед\", fontsize=10, color='blue')\n",
    "display(data_rides['duration'].describe())\n",
    "\"\""
   ]
  },
  {
   "cell_type": "markdown",
   "id": "2d3a8f2e",
   "metadata": {},
   "source": [
    "Проверим скачок с временем поездки около 0 минут. Для этого отсортируем датафрейм с поездками по времени от 0 до 2 мин."
   ]
  },
  {
   "cell_type": "code",
   "execution_count": 19,
   "id": "5a6ef534",
   "metadata": {},
   "outputs": [
    {
     "data": {
      "text/html": [
       "<div>\n",
       "<style scoped>\n",
       "    .dataframe tbody tr th:only-of-type {\n",
       "        vertical-align: middle;\n",
       "    }\n",
       "\n",
       "    .dataframe tbody tr th {\n",
       "        vertical-align: top;\n",
       "    }\n",
       "\n",
       "    .dataframe thead th {\n",
       "        text-align: right;\n",
       "    }\n",
       "</style>\n",
       "<table border=\"1\" class=\"dataframe\">\n",
       "  <thead>\n",
       "    <tr style=\"text-align: right;\">\n",
       "      <th></th>\n",
       "      <th>user_id</th>\n",
       "      <th>distance</th>\n",
       "      <th>duration</th>\n",
       "      <th>date</th>\n",
       "      <th>month</th>\n",
       "    </tr>\n",
       "  </thead>\n",
       "  <tbody>\n",
       "    <tr>\n",
       "      <th>6531</th>\n",
       "      <td>701</td>\n",
       "      <td>4196.445201</td>\n",
       "      <td>0.5</td>\n",
       "      <td>2021-08-31</td>\n",
       "      <td>8</td>\n",
       "    </tr>\n",
       "    <tr>\n",
       "      <th>6570</th>\n",
       "      <td>704</td>\n",
       "      <td>4830.824371</td>\n",
       "      <td>0.5</td>\n",
       "      <td>2021-10-14</td>\n",
       "      <td>10</td>\n",
       "    </tr>\n",
       "    <tr>\n",
       "      <th>6680</th>\n",
       "      <td>712</td>\n",
       "      <td>4684.004397</td>\n",
       "      <td>0.5</td>\n",
       "      <td>2021-03-04</td>\n",
       "      <td>3</td>\n",
       "    </tr>\n",
       "    <tr>\n",
       "      <th>6695</th>\n",
       "      <td>713</td>\n",
       "      <td>5215.642710</td>\n",
       "      <td>0.5</td>\n",
       "      <td>2021-02-25</td>\n",
       "      <td>2</td>\n",
       "    </tr>\n",
       "    <tr>\n",
       "      <th>6768</th>\n",
       "      <td>718</td>\n",
       "      <td>5197.436649</td>\n",
       "      <td>0.5</td>\n",
       "      <td>2021-02-11</td>\n",
       "      <td>2</td>\n",
       "    </tr>\n",
       "    <tr>\n",
       "      <th>6860</th>\n",
       "      <td>724</td>\n",
       "      <td>6225.520342</td>\n",
       "      <td>0.5</td>\n",
       "      <td>2021-12-16</td>\n",
       "      <td>12</td>\n",
       "    </tr>\n",
       "    <tr>\n",
       "      <th>6883</th>\n",
       "      <td>726</td>\n",
       "      <td>4452.491518</td>\n",
       "      <td>0.5</td>\n",
       "      <td>2021-03-01</td>\n",
       "      <td>3</td>\n",
       "    </tr>\n",
       "    <tr>\n",
       "      <th>7018</th>\n",
       "      <td>735</td>\n",
       "      <td>4406.954812</td>\n",
       "      <td>0.5</td>\n",
       "      <td>2021-04-13</td>\n",
       "      <td>4</td>\n",
       "    </tr>\n",
       "    <tr>\n",
       "      <th>7160</th>\n",
       "      <td>745</td>\n",
       "      <td>5286.167732</td>\n",
       "      <td>0.5</td>\n",
       "      <td>2021-08-17</td>\n",
       "      <td>8</td>\n",
       "    </tr>\n",
       "    <tr>\n",
       "      <th>7364</th>\n",
       "      <td>760</td>\n",
       "      <td>4881.391865</td>\n",
       "      <td>0.5</td>\n",
       "      <td>2021-08-29</td>\n",
       "      <td>8</td>\n",
       "    </tr>\n",
       "  </tbody>\n",
       "</table>\n",
       "</div>"
      ],
      "text/plain": [
       "      user_id     distance  duration       date  month\n",
       "6531      701  4196.445201       0.5 2021-08-31      8\n",
       "6570      704  4830.824371       0.5 2021-10-14     10\n",
       "6680      712  4684.004397       0.5 2021-03-04      3\n",
       "6695      713  5215.642710       0.5 2021-02-25      2\n",
       "6768      718  5197.436649       0.5 2021-02-11      2\n",
       "6860      724  6225.520342       0.5 2021-12-16     12\n",
       "6883      726  4452.491518       0.5 2021-03-01      3\n",
       "7018      735  4406.954812       0.5 2021-04-13      4\n",
       "7160      745  5286.167732       0.5 2021-08-17      8\n",
       "7364      760  4881.391865       0.5 2021-08-29      8"
      ]
     },
     "metadata": {},
     "output_type": "display_data"
    },
    {
     "name": "stdout",
     "output_type": "stream",
     "text": [
      "<class 'pandas.core.frame.DataFrame'>\n",
      "Int64Index: 95 entries, 6531 to 17909\n",
      "Data columns (total 5 columns):\n",
      " #   Column    Non-Null Count  Dtype         \n",
      "---  ------    --------------  -----         \n",
      " 0   user_id   95 non-null     int64         \n",
      " 1   distance  95 non-null     float64       \n",
      " 2   duration  95 non-null     float64       \n",
      " 3   date      95 non-null     datetime64[ns]\n",
      " 4   month     95 non-null     int64         \n",
      "dtypes: datetime64[ns](1), float64(2), int64(2)\n",
      "memory usage: 4.5 KB\n"
     ]
    }
   ],
   "source": [
    "test = data_rides[data_rides['duration'] < 2]\n",
    "display(test.head(10))\n",
    "test.info()"
   ]
  },
  {
   "cell_type": "markdown",
   "id": "e9103770",
   "metadata": {},
   "source": [
    "Видны аномальные значения расстояния, не соответствующие времени сессии. За 2 минуты при макимальной скорсти 25 км/ч не может проехать больше 1000 метров. Таких поездок менее 1%, их удаление не повлияет на качество дальнейшего анализа. Удалим сессии с временем  менее 2 мин и расстоянием более 1000 м."
   ]
  },
  {
   "cell_type": "code",
   "execution_count": 20,
   "id": "3f6621e3",
   "metadata": {},
   "outputs": [
    {
     "name": "stdout",
     "output_type": "stream",
     "text": [
      "<class 'pandas.core.frame.DataFrame'>\n",
      "Int64Index: 17973 entries, 0 to 18067\n",
      "Data columns (total 5 columns):\n",
      " #   Column    Non-Null Count  Dtype         \n",
      "---  ------    --------------  -----         \n",
      " 0   user_id   17973 non-null  int64         \n",
      " 1   distance  17973 non-null  float64       \n",
      " 2   duration  17973 non-null  float64       \n",
      " 3   date      17973 non-null  datetime64[ns]\n",
      " 4   month     17973 non-null  int64         \n",
      "dtypes: datetime64[ns](1), float64(2), int64(2)\n",
      "memory usage: 842.5 KB\n"
     ]
    }
   ],
   "source": [
    "data_rides = data_rides.drop(data_rides[(data_rides['duration'] < 2) & (data_rides['distance'] > 1000)].index)\n",
    "data_rides.info()"
   ]
  },
  {
   "cell_type": "markdown",
   "id": "29c2ea03",
   "metadata": {},
   "source": [
    "Выбросы в данных убраны, количество сессий стало равным 17973. Наибольшое число пользователей из Пятигорска, в среднем из каждого города по 150-200 пользователей. Пользователей без подписки больше, но не сильно значительно. Средний возраст пользователей составляет 25 лет, средние расстояние и время поездки составляют 3100 метров и 18 мин соответственно. Есть локальный сегмент с короткими поездками в среднем окло 700 метров, возможно до метро или магазинов."
   ]
  },
  {
   "cell_type": "markdown",
   "id": "36c243c1",
   "metadata": {},
   "source": [
    "#### Шаг 4. Объединение данных"
   ]
  },
  {
   "cell_type": "markdown",
   "id": "44695131",
   "metadata": {},
   "source": [
    "Обьеденим все 3 датафрейма в один, bспользуем метод merge()."
   ]
  },
  {
   "cell_type": "code",
   "execution_count": 21,
   "id": "0628941f",
   "metadata": {},
   "outputs": [
    {
     "data": {
      "text/html": [
       "<div>\n",
       "<style scoped>\n",
       "    .dataframe tbody tr th:only-of-type {\n",
       "        vertical-align: middle;\n",
       "    }\n",
       "\n",
       "    .dataframe tbody tr th {\n",
       "        vertical-align: top;\n",
       "    }\n",
       "\n",
       "    .dataframe thead th {\n",
       "        text-align: right;\n",
       "    }\n",
       "</style>\n",
       "<table border=\"1\" class=\"dataframe\">\n",
       "  <thead>\n",
       "    <tr style=\"text-align: right;\">\n",
       "      <th></th>\n",
       "      <th>user_id</th>\n",
       "      <th>distance</th>\n",
       "      <th>duration</th>\n",
       "      <th>date</th>\n",
       "      <th>month</th>\n",
       "      <th>name</th>\n",
       "      <th>age</th>\n",
       "      <th>city</th>\n",
       "      <th>subscription_type</th>\n",
       "      <th>minute_price</th>\n",
       "      <th>start_ride_price</th>\n",
       "      <th>subscription_fee</th>\n",
       "    </tr>\n",
       "  </thead>\n",
       "  <tbody>\n",
       "    <tr>\n",
       "      <th>0</th>\n",
       "      <td>1</td>\n",
       "      <td>4409.919140</td>\n",
       "      <td>25.599769</td>\n",
       "      <td>2021-01-01</td>\n",
       "      <td>1</td>\n",
       "      <td>Кира</td>\n",
       "      <td>22</td>\n",
       "      <td>Тюмень</td>\n",
       "      <td>ultra</td>\n",
       "      <td>6</td>\n",
       "      <td>0</td>\n",
       "      <td>199</td>\n",
       "    </tr>\n",
       "    <tr>\n",
       "      <th>1</th>\n",
       "      <td>1</td>\n",
       "      <td>2617.592153</td>\n",
       "      <td>15.816871</td>\n",
       "      <td>2021-01-18</td>\n",
       "      <td>1</td>\n",
       "      <td>Кира</td>\n",
       "      <td>22</td>\n",
       "      <td>Тюмень</td>\n",
       "      <td>ultra</td>\n",
       "      <td>6</td>\n",
       "      <td>0</td>\n",
       "      <td>199</td>\n",
       "    </tr>\n",
       "    <tr>\n",
       "      <th>2</th>\n",
       "      <td>1</td>\n",
       "      <td>754.159807</td>\n",
       "      <td>6.232113</td>\n",
       "      <td>2021-04-20</td>\n",
       "      <td>4</td>\n",
       "      <td>Кира</td>\n",
       "      <td>22</td>\n",
       "      <td>Тюмень</td>\n",
       "      <td>ultra</td>\n",
       "      <td>6</td>\n",
       "      <td>0</td>\n",
       "      <td>199</td>\n",
       "    </tr>\n",
       "    <tr>\n",
       "      <th>3</th>\n",
       "      <td>1</td>\n",
       "      <td>2694.783254</td>\n",
       "      <td>18.511000</td>\n",
       "      <td>2021-08-11</td>\n",
       "      <td>8</td>\n",
       "      <td>Кира</td>\n",
       "      <td>22</td>\n",
       "      <td>Тюмень</td>\n",
       "      <td>ultra</td>\n",
       "      <td>6</td>\n",
       "      <td>0</td>\n",
       "      <td>199</td>\n",
       "    </tr>\n",
       "    <tr>\n",
       "      <th>4</th>\n",
       "      <td>1</td>\n",
       "      <td>4028.687306</td>\n",
       "      <td>26.265803</td>\n",
       "      <td>2021-08-28</td>\n",
       "      <td>8</td>\n",
       "      <td>Кира</td>\n",
       "      <td>22</td>\n",
       "      <td>Тюмень</td>\n",
       "      <td>ultra</td>\n",
       "      <td>6</td>\n",
       "      <td>0</td>\n",
       "      <td>199</td>\n",
       "    </tr>\n",
       "    <tr>\n",
       "      <th>5</th>\n",
       "      <td>1</td>\n",
       "      <td>2770.890808</td>\n",
       "      <td>16.650138</td>\n",
       "      <td>2021-10-09</td>\n",
       "      <td>10</td>\n",
       "      <td>Кира</td>\n",
       "      <td>22</td>\n",
       "      <td>Тюмень</td>\n",
       "      <td>ultra</td>\n",
       "      <td>6</td>\n",
       "      <td>0</td>\n",
       "      <td>199</td>\n",
       "    </tr>\n",
       "    <tr>\n",
       "      <th>6</th>\n",
       "      <td>1</td>\n",
       "      <td>3039.020292</td>\n",
       "      <td>14.927879</td>\n",
       "      <td>2021-10-19</td>\n",
       "      <td>10</td>\n",
       "      <td>Кира</td>\n",
       "      <td>22</td>\n",
       "      <td>Тюмень</td>\n",
       "      <td>ultra</td>\n",
       "      <td>6</td>\n",
       "      <td>0</td>\n",
       "      <td>199</td>\n",
       "    </tr>\n",
       "    <tr>\n",
       "      <th>7</th>\n",
       "      <td>1</td>\n",
       "      <td>2842.118050</td>\n",
       "      <td>23.117468</td>\n",
       "      <td>2021-11-06</td>\n",
       "      <td>11</td>\n",
       "      <td>Кира</td>\n",
       "      <td>22</td>\n",
       "      <td>Тюмень</td>\n",
       "      <td>ultra</td>\n",
       "      <td>6</td>\n",
       "      <td>0</td>\n",
       "      <td>199</td>\n",
       "    </tr>\n",
       "    <tr>\n",
       "      <th>8</th>\n",
       "      <td>1</td>\n",
       "      <td>3412.690668</td>\n",
       "      <td>15.238072</td>\n",
       "      <td>2021-11-14</td>\n",
       "      <td>11</td>\n",
       "      <td>Кира</td>\n",
       "      <td>22</td>\n",
       "      <td>Тюмень</td>\n",
       "      <td>ultra</td>\n",
       "      <td>6</td>\n",
       "      <td>0</td>\n",
       "      <td>199</td>\n",
       "    </tr>\n",
       "    <tr>\n",
       "      <th>9</th>\n",
       "      <td>1</td>\n",
       "      <td>748.690645</td>\n",
       "      <td>15.041884</td>\n",
       "      <td>2021-11-22</td>\n",
       "      <td>11</td>\n",
       "      <td>Кира</td>\n",
       "      <td>22</td>\n",
       "      <td>Тюмень</td>\n",
       "      <td>ultra</td>\n",
       "      <td>6</td>\n",
       "      <td>0</td>\n",
       "      <td>199</td>\n",
       "    </tr>\n",
       "  </tbody>\n",
       "</table>\n",
       "</div>"
      ],
      "text/plain": [
       "   user_id     distance   duration       date  month  name  age    city  \\\n",
       "0        1  4409.919140  25.599769 2021-01-01      1  Кира   22  Тюмень   \n",
       "1        1  2617.592153  15.816871 2021-01-18      1  Кира   22  Тюмень   \n",
       "2        1   754.159807   6.232113 2021-04-20      4  Кира   22  Тюмень   \n",
       "3        1  2694.783254  18.511000 2021-08-11      8  Кира   22  Тюмень   \n",
       "4        1  4028.687306  26.265803 2021-08-28      8  Кира   22  Тюмень   \n",
       "5        1  2770.890808  16.650138 2021-10-09     10  Кира   22  Тюмень   \n",
       "6        1  3039.020292  14.927879 2021-10-19     10  Кира   22  Тюмень   \n",
       "7        1  2842.118050  23.117468 2021-11-06     11  Кира   22  Тюмень   \n",
       "8        1  3412.690668  15.238072 2021-11-14     11  Кира   22  Тюмень   \n",
       "9        1   748.690645  15.041884 2021-11-22     11  Кира   22  Тюмень   \n",
       "\n",
       "  subscription_type  minute_price  start_ride_price  subscription_fee  \n",
       "0             ultra             6                 0               199  \n",
       "1             ultra             6                 0               199  \n",
       "2             ultra             6                 0               199  \n",
       "3             ultra             6                 0               199  \n",
       "4             ultra             6                 0               199  \n",
       "5             ultra             6                 0               199  \n",
       "6             ultra             6                 0               199  \n",
       "7             ultra             6                 0               199  \n",
       "8             ultra             6                 0               199  \n",
       "9             ultra             6                 0               199  "
      ]
     },
     "metadata": {},
     "output_type": "display_data"
    },
    {
     "name": "stdout",
     "output_type": "stream",
     "text": [
      "<class 'pandas.core.frame.DataFrame'>\n",
      "Int64Index: 17973 entries, 0 to 17972\n",
      "Data columns (total 12 columns):\n",
      " #   Column             Non-Null Count  Dtype         \n",
      "---  ------             --------------  -----         \n",
      " 0   user_id            17973 non-null  int64         \n",
      " 1   distance           17973 non-null  float64       \n",
      " 2   duration           17973 non-null  float64       \n",
      " 3   date               17973 non-null  datetime64[ns]\n",
      " 4   month              17973 non-null  int64         \n",
      " 5   name               17973 non-null  object        \n",
      " 6   age                17973 non-null  int64         \n",
      " 7   city               17973 non-null  object        \n",
      " 8   subscription_type  17973 non-null  object        \n",
      " 9   minute_price       17973 non-null  int64         \n",
      " 10  start_ride_price   17973 non-null  int64         \n",
      " 11  subscription_fee   17973 non-null  int64         \n",
      "dtypes: datetime64[ns](1), float64(2), int64(6), object(3)\n",
      "memory usage: 1.8+ MB\n"
     ]
    }
   ],
   "source": [
    "data_all = data_rides.merge(data_users, on='user_id')\n",
    "data_all = data_all.merge(data_subscriptions, on='subscription_type')\n",
    "display(data_all.head(10))\n",
    "data_all.info()"
   ]
  },
  {
   "cell_type": "markdown",
   "id": "2efbb49f",
   "metadata": {},
   "source": [
    "Обьединение датафреймов проведено корректно, количество сессий после обьединения равно исходным данным."
   ]
  },
  {
   "cell_type": "markdown",
   "id": "c6c962a5",
   "metadata": {},
   "source": [
    "Рзобьем датафрейм на 2 категории \"С подпиской\" и \" Без подписки\"."
   ]
  },
  {
   "cell_type": "code",
   "execution_count": 22,
   "id": "5b85da33",
   "metadata": {},
   "outputs": [
    {
     "name": "stdout",
     "output_type": "stream",
     "text": [
      "Free\n",
      "<class 'pandas.core.frame.DataFrame'>\n",
      "Int64Index: 11473 entries, 6500 to 17972\n",
      "Data columns (total 12 columns):\n",
      " #   Column             Non-Null Count  Dtype         \n",
      "---  ------             --------------  -----         \n",
      " 0   user_id            11473 non-null  int64         \n",
      " 1   distance           11473 non-null  float64       \n",
      " 2   duration           11473 non-null  float64       \n",
      " 3   date               11473 non-null  datetime64[ns]\n",
      " 4   month              11473 non-null  int64         \n",
      " 5   name               11473 non-null  object        \n",
      " 6   age                11473 non-null  int64         \n",
      " 7   city               11473 non-null  object        \n",
      " 8   subscription_type  11473 non-null  object        \n",
      " 9   minute_price       11473 non-null  int64         \n",
      " 10  start_ride_price   11473 non-null  int64         \n",
      " 11  subscription_fee   11473 non-null  int64         \n",
      "dtypes: datetime64[ns](1), float64(2), int64(6), object(3)\n",
      "memory usage: 1.1+ MB\n"
     ]
    },
    {
     "data": {
      "text/html": [
       "<div>\n",
       "<style scoped>\n",
       "    .dataframe tbody tr th:only-of-type {\n",
       "        vertical-align: middle;\n",
       "    }\n",
       "\n",
       "    .dataframe tbody tr th {\n",
       "        vertical-align: top;\n",
       "    }\n",
       "\n",
       "    .dataframe thead th {\n",
       "        text-align: right;\n",
       "    }\n",
       "</style>\n",
       "<table border=\"1\" class=\"dataframe\">\n",
       "  <thead>\n",
       "    <tr style=\"text-align: right;\">\n",
       "      <th></th>\n",
       "      <th>duration</th>\n",
       "      <th>distance</th>\n",
       "      <th>age</th>\n",
       "    </tr>\n",
       "  </thead>\n",
       "  <tbody>\n",
       "    <tr>\n",
       "      <th>count</th>\n",
       "      <td>11473.000000</td>\n",
       "      <td>11473.000000</td>\n",
       "      <td>11473.000000</td>\n",
       "    </tr>\n",
       "    <tr>\n",
       "      <th>mean</th>\n",
       "      <td>17.530771</td>\n",
       "      <td>3028.374239</td>\n",
       "      <td>24.888782</td>\n",
       "    </tr>\n",
       "    <tr>\n",
       "      <th>std</th>\n",
       "      <td>6.162609</td>\n",
       "      <td>1235.541051</td>\n",
       "      <td>4.482066</td>\n",
       "    </tr>\n",
       "    <tr>\n",
       "      <th>min</th>\n",
       "      <td>2.035632</td>\n",
       "      <td>0.855683</td>\n",
       "      <td>12.000000</td>\n",
       "    </tr>\n",
       "    <tr>\n",
       "      <th>25%</th>\n",
       "      <td>13.085688</td>\n",
       "      <td>2360.878149</td>\n",
       "      <td>22.000000</td>\n",
       "    </tr>\n",
       "    <tr>\n",
       "      <th>50%</th>\n",
       "      <td>17.383807</td>\n",
       "      <td>3102.083025</td>\n",
       "      <td>25.000000</td>\n",
       "    </tr>\n",
       "    <tr>\n",
       "      <th>75%</th>\n",
       "      <td>21.638038</td>\n",
       "      <td>3883.979311</td>\n",
       "      <td>28.000000</td>\n",
       "    </tr>\n",
       "    <tr>\n",
       "      <th>max</th>\n",
       "      <td>34.948498</td>\n",
       "      <td>7066.003772</td>\n",
       "      <td>43.000000</td>\n",
       "    </tr>\n",
       "  </tbody>\n",
       "</table>\n",
       "</div>"
      ],
      "text/plain": [
       "           duration      distance           age\n",
       "count  11473.000000  11473.000000  11473.000000\n",
       "mean      17.530771   3028.374239     24.888782\n",
       "std        6.162609   1235.541051      4.482066\n",
       "min        2.035632      0.855683     12.000000\n",
       "25%       13.085688   2360.878149     22.000000\n",
       "50%       17.383807   3102.083025     25.000000\n",
       "75%       21.638038   3883.979311     28.000000\n",
       "max       34.948498   7066.003772     43.000000"
      ]
     },
     "metadata": {},
     "output_type": "display_data"
    },
    {
     "name": "stdout",
     "output_type": "stream",
     "text": [
      "\n",
      "Ultra\n",
      "<class 'pandas.core.frame.DataFrame'>\n",
      "Int64Index: 6500 entries, 0 to 6499\n",
      "Data columns (total 12 columns):\n",
      " #   Column             Non-Null Count  Dtype         \n",
      "---  ------             --------------  -----         \n",
      " 0   user_id            6500 non-null   int64         \n",
      " 1   distance           6500 non-null   float64       \n",
      " 2   duration           6500 non-null   float64       \n",
      " 3   date               6500 non-null   datetime64[ns]\n",
      " 4   month              6500 non-null   int64         \n",
      " 5   name               6500 non-null   object        \n",
      " 6   age                6500 non-null   int64         \n",
      " 7   city               6500 non-null   object        \n",
      " 8   subscription_type  6500 non-null   object        \n",
      " 9   minute_price       6500 non-null   int64         \n",
      " 10  start_ride_price   6500 non-null   int64         \n",
      " 11  subscription_fee   6500 non-null   int64         \n",
      "dtypes: datetime64[ns](1), float64(2), int64(6), object(3)\n",
      "memory usage: 660.2+ KB\n"
     ]
    },
    {
     "data": {
      "text/html": [
       "<div>\n",
       "<style scoped>\n",
       "    .dataframe tbody tr th:only-of-type {\n",
       "        vertical-align: middle;\n",
       "    }\n",
       "\n",
       "    .dataframe tbody tr th {\n",
       "        vertical-align: top;\n",
       "    }\n",
       "\n",
       "    .dataframe thead th {\n",
       "        text-align: right;\n",
       "    }\n",
       "</style>\n",
       "<table border=\"1\" class=\"dataframe\">\n",
       "  <thead>\n",
       "    <tr style=\"text-align: right;\">\n",
       "      <th></th>\n",
       "      <th>duration</th>\n",
       "      <th>distance</th>\n",
       "      <th>age</th>\n",
       "    </tr>\n",
       "  </thead>\n",
       "  <tbody>\n",
       "    <tr>\n",
       "      <th>count</th>\n",
       "      <td>6500.000000</td>\n",
       "      <td>6500.000000</td>\n",
       "      <td>6500.000000</td>\n",
       "    </tr>\n",
       "    <tr>\n",
       "      <th>mean</th>\n",
       "      <td>18.541985</td>\n",
       "      <td>3115.445388</td>\n",
       "      <td>24.892615</td>\n",
       "    </tr>\n",
       "    <tr>\n",
       "      <th>std</th>\n",
       "      <td>5.572048</td>\n",
       "      <td>836.895330</td>\n",
       "      <td>4.757208</td>\n",
       "    </tr>\n",
       "    <tr>\n",
       "      <th>min</th>\n",
       "      <td>3.760353</td>\n",
       "      <td>244.210438</td>\n",
       "      <td>12.000000</td>\n",
       "    </tr>\n",
       "    <tr>\n",
       "      <th>25%</th>\n",
       "      <td>14.524654</td>\n",
       "      <td>2785.444017</td>\n",
       "      <td>22.000000</td>\n",
       "    </tr>\n",
       "    <tr>\n",
       "      <th>50%</th>\n",
       "      <td>18.178153</td>\n",
       "      <td>3148.637229</td>\n",
       "      <td>25.000000</td>\n",
       "    </tr>\n",
       "    <tr>\n",
       "      <th>75%</th>\n",
       "      <td>21.884129</td>\n",
       "      <td>3560.574425</td>\n",
       "      <td>28.000000</td>\n",
       "    </tr>\n",
       "    <tr>\n",
       "      <th>max</th>\n",
       "      <td>40.823963</td>\n",
       "      <td>5699.769662</td>\n",
       "      <td>38.000000</td>\n",
       "    </tr>\n",
       "  </tbody>\n",
       "</table>\n",
       "</div>"
      ],
      "text/plain": [
       "          duration     distance          age\n",
       "count  6500.000000  6500.000000  6500.000000\n",
       "mean     18.541985  3115.445388    24.892615\n",
       "std       5.572048   836.895330     4.757208\n",
       "min       3.760353   244.210438    12.000000\n",
       "25%      14.524654  2785.444017    22.000000\n",
       "50%      18.178153  3148.637229    25.000000\n",
       "75%      21.884129  3560.574425    28.000000\n",
       "max      40.823963  5699.769662    38.000000"
      ]
     },
     "metadata": {},
     "output_type": "display_data"
    }
   ],
   "source": [
    "data_subscription_free = data_all.loc[data_all['subscription_type'] == 'free'] # Выделение пользователей без подписки в отдельный dataframe\n",
    "data_subscription_ultra = data_all.loc[data_all['subscription_type'] == 'ultra'] # Выделение пользователей c подпиской в отдельный dataframe\n",
    "print('Free')\n",
    "data_subscription_free.info()\n",
    "display(data_subscription_free[['duration', 'distance', 'age']].describe())\n",
    "print('\\nUltra')\n",
    "data_subscription_ultra.info()\n",
    "display(data_subscription_ultra[['duration', 'distance', 'age']].describe())"
   ]
  },
  {
   "cell_type": "markdown",
   "id": "3b34bbae",
   "metadata": {},
   "source": [
    "Создадим гистограммы расстояния и времени  поездок для пользователей без подписки и с подпиской."
   ]
  },
  {
   "cell_type": "code",
   "execution_count": 23,
   "id": "eb1b1fb6",
   "metadata": {},
   "outputs": [
    {
     "data": {
      "text/plain": [
       "''"
      ]
     },
     "execution_count": 23,
     "metadata": {},
     "output_type": "execute_result"
    },
    {
     "data": {
      "image/png": "[encoded data removed]",
      "text/plain": [
       "<Figure size 936x360 with 2 Axes>"
      ]
     },
     "metadata": {
      "needs_background": "light"
     },
     "output_type": "display_data"
    }
   ],
   "source": [
    "fig, axs = plt.subplots(1, 2, figsize=(13, 5))\n",
    "\n",
    "axs[0].hist([data_subscription_free ['distance']], bins=70, label='Без подписки (free)')\n",
    "axs[0].hist([data_subscription_ultra ['distance']], bins=70, label='С подпиской (ultra)')\n",
    "axs[0].set_title('Гистограмма расстояния поездок', fontsize=15)\n",
    "axs[0].set_xlabel(\"Расстояние, метры\", fontsize=10, color='blue')\n",
    "axs[0].set_ylabel(\"Количество поездок, ед\", fontsize=10, color='blue')\n",
    "axs[0].set_ylim([0,500])\n",
    "axs[0].legend()\n",
    "axs[1].hist( [data_subscription_free ['duration']], bins=40, label='Без подписки (free)')\n",
    "axs[1].hist( [data_subscription_ultra ['duration']], bins=40, label='С подпиской (ultra)')\n",
    "axs[1].set_title('Гистограмма продолжительности поездок', fontsize=15)\n",
    "axs[1].set_xlabel(\"Время, минуты\", fontsize=10, color='blue')\n",
    "axs[1].set_ylabel(\"Количество поездок, ед\", fontsize=10, color='blue')\n",
    "axs[1].set_ylim([0,700])\n",
    "axs[1].legend()\n",
    "\n",
    "plt.show\n",
    "\n",
    "\"\""
   ]
  },
  {
   "cell_type": "markdown",
   "id": "404830e4",
   "metadata": {},
   "source": [
    "В целом гистограммы по пользователям с подпиской и без нее похожи. На гистограмме рассояния поездок с подпской (ultra)  присутствует дополнительное локальное пиковое значение с длительными поездками, это может быть связано с более низкой стоимостью минут сессии по подписке. Также данная гистограмма более усредненная у среднего значения, т.е. имеет меньшую дисперсию."
   ]
  },
  {
   "cell_type": "markdown",
   "id": "ee97b723",
   "metadata": {},
   "source": [
    "#### Шаг 5. Подсчёт выручки"
   ]
  },
  {
   "cell_type": "markdown",
   "id": "32de1df6",
   "metadata": {},
   "source": [
    "Проверим наличие пользоватлей, которые делали поезди с подпиской и без нее. Для это проверим присутсвие id из датафрейма data_subscription_ultra в датафрейме data_subscription_free."
   ]
  },
  {
   "cell_type": "code",
   "execution_count": 24,
   "id": "c033b2c8",
   "metadata": {},
   "outputs": [
    {
     "name": "stdout",
     "output_type": "stream",
     "text": [
      "Пользователи использовавшие сервис в течении года с подпиской и без нее не обнаружены\n"
     ]
    }
   ],
   "source": [
    "n = 0\n",
    "for index, row in data_subscription_ultra.iterrows():\n",
    "    if data_subscription_ultra.loc[index,'user_id'] in data_subscription_free['user_id'].values:\n",
    "        n += 1\n",
    "if n == 0:\n",
    "    print('Пользователи использовавшие сервис в течении года с подпиской и без нее не обнаружены')\n",
    "else:\n",
    "    print('Есть пользователи использовавшие сервис в течении года с подпиской и без нее')"
   ]
  },
  {
   "cell_type": "markdown",
   "id": "675ce4c9",
   "metadata": {},
   "source": [
    "Округлим значения времени каждой сессии в таблице данных в сторону большего целого. Также округлим значения расстояния каждой сессии в таблице данных по банковским правилам. Создадим агрегированную по пользователям и месяцам таблицу сумарного количества, расстояния и времени поездок."
   ]
  },
  {
   "cell_type": "code",
   "execution_count": 25,
   "id": "59a753d5",
   "metadata": {},
   "outputs": [
    {
     "data": {
      "text/html": [
       "<div>\n",
       "<style scoped>\n",
       "    .dataframe tbody tr th:only-of-type {\n",
       "        vertical-align: middle;\n",
       "    }\n",
       "\n",
       "    .dataframe tbody tr th {\n",
       "        vertical-align: top;\n",
       "    }\n",
       "\n",
       "    .dataframe thead th {\n",
       "        text-align: right;\n",
       "    }\n",
       "</style>\n",
       "<table border=\"1\" class=\"dataframe\">\n",
       "  <thead>\n",
       "    <tr style=\"text-align: right;\">\n",
       "      <th></th>\n",
       "      <th>user_id</th>\n",
       "      <th>month</th>\n",
       "      <th>subscription_type</th>\n",
       "      <th>ride_counts</th>\n",
       "      <th>distance</th>\n",
       "      <th>duration</th>\n",
       "      <th>minute_price</th>\n",
       "      <th>start_ride_price</th>\n",
       "      <th>subscription_fee</th>\n",
       "      <th>revenue</th>\n",
       "    </tr>\n",
       "  </thead>\n",
       "  <tbody>\n",
       "    <tr>\n",
       "      <th>0</th>\n",
       "      <td>1</td>\n",
       "      <td>1</td>\n",
       "      <td>ultra</td>\n",
       "      <td>2</td>\n",
       "      <td>7028</td>\n",
       "      <td>42</td>\n",
       "      <td>6</td>\n",
       "      <td>0</td>\n",
       "      <td>199</td>\n",
       "      <td>451</td>\n",
       "    </tr>\n",
       "    <tr>\n",
       "      <th>1</th>\n",
       "      <td>1</td>\n",
       "      <td>4</td>\n",
       "      <td>ultra</td>\n",
       "      <td>1</td>\n",
       "      <td>754</td>\n",
       "      <td>7</td>\n",
       "      <td>6</td>\n",
       "      <td>0</td>\n",
       "      <td>199</td>\n",
       "      <td>241</td>\n",
       "    </tr>\n",
       "    <tr>\n",
       "      <th>2</th>\n",
       "      <td>1</td>\n",
       "      <td>8</td>\n",
       "      <td>ultra</td>\n",
       "      <td>2</td>\n",
       "      <td>6724</td>\n",
       "      <td>46</td>\n",
       "      <td>6</td>\n",
       "      <td>0</td>\n",
       "      <td>199</td>\n",
       "      <td>475</td>\n",
       "    </tr>\n",
       "    <tr>\n",
       "      <th>3</th>\n",
       "      <td>1</td>\n",
       "      <td>10</td>\n",
       "      <td>ultra</td>\n",
       "      <td>2</td>\n",
       "      <td>5810</td>\n",
       "      <td>32</td>\n",
       "      <td>6</td>\n",
       "      <td>0</td>\n",
       "      <td>199</td>\n",
       "      <td>391</td>\n",
       "    </tr>\n",
       "    <tr>\n",
       "      <th>4</th>\n",
       "      <td>1</td>\n",
       "      <td>11</td>\n",
       "      <td>ultra</td>\n",
       "      <td>3</td>\n",
       "      <td>7004</td>\n",
       "      <td>56</td>\n",
       "      <td>6</td>\n",
       "      <td>0</td>\n",
       "      <td>199</td>\n",
       "      <td>535</td>\n",
       "    </tr>\n",
       "    <tr>\n",
       "      <th>5</th>\n",
       "      <td>1</td>\n",
       "      <td>12</td>\n",
       "      <td>ultra</td>\n",
       "      <td>2</td>\n",
       "      <td>6752</td>\n",
       "      <td>28</td>\n",
       "      <td>6</td>\n",
       "      <td>0</td>\n",
       "      <td>199</td>\n",
       "      <td>367</td>\n",
       "    </tr>\n",
       "    <tr>\n",
       "      <th>6</th>\n",
       "      <td>2</td>\n",
       "      <td>3</td>\n",
       "      <td>ultra</td>\n",
       "      <td>3</td>\n",
       "      <td>10188</td>\n",
       "      <td>63</td>\n",
       "      <td>6</td>\n",
       "      <td>0</td>\n",
       "      <td>199</td>\n",
       "      <td>577</td>\n",
       "    </tr>\n",
       "    <tr>\n",
       "      <th>7</th>\n",
       "      <td>2</td>\n",
       "      <td>4</td>\n",
       "      <td>ultra</td>\n",
       "      <td>2</td>\n",
       "      <td>6165</td>\n",
       "      <td>40</td>\n",
       "      <td>6</td>\n",
       "      <td>0</td>\n",
       "      <td>199</td>\n",
       "      <td>439</td>\n",
       "    </tr>\n",
       "    <tr>\n",
       "      <th>8</th>\n",
       "      <td>2</td>\n",
       "      <td>6</td>\n",
       "      <td>ultra</td>\n",
       "      <td>1</td>\n",
       "      <td>3255</td>\n",
       "      <td>14</td>\n",
       "      <td>6</td>\n",
       "      <td>0</td>\n",
       "      <td>199</td>\n",
       "      <td>283</td>\n",
       "    </tr>\n",
       "    <tr>\n",
       "      <th>9</th>\n",
       "      <td>2</td>\n",
       "      <td>7</td>\n",
       "      <td>ultra</td>\n",
       "      <td>2</td>\n",
       "      <td>6781</td>\n",
       "      <td>48</td>\n",
       "      <td>6</td>\n",
       "      <td>0</td>\n",
       "      <td>199</td>\n",
       "      <td>487</td>\n",
       "    </tr>\n",
       "  </tbody>\n",
       "</table>\n",
       "</div>"
      ],
      "text/plain": [
       "   user_id  month subscription_type  ride_counts  distance  duration  \\\n",
       "0        1      1             ultra            2      7028        42   \n",
       "1        1      4             ultra            1       754         7   \n",
       "2        1      8             ultra            2      6724        46   \n",
       "3        1     10             ultra            2      5810        32   \n",
       "4        1     11             ultra            3      7004        56   \n",
       "5        1     12             ultra            2      6752        28   \n",
       "6        2      3             ultra            3     10188        63   \n",
       "7        2      4             ultra            2      6165        40   \n",
       "8        2      6             ultra            1      3255        14   \n",
       "9        2      7             ultra            2      6781        48   \n",
       "\n",
       "   minute_price  start_ride_price  subscription_fee  revenue  \n",
       "0             6                 0               199      451  \n",
       "1             6                 0               199      241  \n",
       "2             6                 0               199      475  \n",
       "3             6                 0               199      391  \n",
       "4             6                 0               199      535  \n",
       "5             6                 0               199      367  \n",
       "6             6                 0               199      577  \n",
       "7             6                 0               199      439  \n",
       "8             6                 0               199      283  \n",
       "9             6                 0               199      487  "
      ]
     },
     "execution_count": 25,
     "metadata": {},
     "output_type": "execute_result"
    }
   ],
   "source": [
    "data_all_rounded = data_all\n",
    "data_all_rounded['duration'] = np.ceil(data_all_rounded['duration'])# округляем времяя поездок в сторону большего целого\n",
    "data_all_rounded['distance'] = round(data_all_rounded['distance'])# округляем расстояние поездок по банковским правилам\n",
    "data_all_rounded['duration'] = data_all_rounded['duration'].astype(int) \n",
    "data_all_rounded['distance'] = data_all_rounded['distance'].astype(int)\n",
    "\n",
    "agg_func = {'distance': ['count', 'sum'], 'duration': ['sum']}  #создаем словарь с функциями и столбцами к которым их надо применить\n",
    "data_all_sum_id_by_month = data_all_rounded.pivot_table(\n",
    "                            index = ['user_id', 'month', 'subscription_type'], \n",
    "                            values=['distance', 'duration'], \n",
    "                            aggfunc = agg_func\n",
    "                            ).reset_index() # создаем сводную таблицу и сбрасываем индексы\n",
    "data_all_sum_id_by_month.columns = ['user_id', 'month', 'subscription_type', 'ride_counts', 'distance', 'duration'] # изменяем названия столбцов\n",
    "\n",
    "data_all_sum_id_by_month = data_all_sum_id_by_month.merge(data_subscriptions, on='subscription_type') #добавляем информацию по тарифам \n",
    "\n",
    "data_all_sum_id_by_month['revenue'] = (data_all_sum_id_by_month['start_ride_price'] * data_all_sum_id_by_month['ride_counts'] \n",
    "                                       + data_all_sum_id_by_month['minute_price'] * data_all_sum_id_by_month['duration'] \n",
    "                                       + data_all_sum_id_by_month['subscription_fee']\n",
    ") # рассчитываем помесячную выручку \n",
    "\n",
    "data_all_sum_id_by_month.head(10)\n"
   ]
  },
  {
   "cell_type": "markdown",
   "id": "bc564e89",
   "metadata": {},
   "source": [
    "#### Шаг 6. Проверка гипотез"
   ]
  },
  {
   "cell_type": "markdown",
   "id": "020b2f14",
   "metadata": {},
   "source": [
    "<span style=\"font-size: 14px;\"><b>6.1 Влияние наличия подписки на время сессии </b></span>"
   ]
  },
  {
   "cell_type": "markdown",
   "id": "bce0421b",
   "metadata": {},
   "source": [
    "Сформулируем нулевую гипотезу так: Пользователи с подпиской (ultra) и без подписки (free) тратят одинаковое среднее  времени на поездки. \n",
    "\n",
    "Альтернативная гипотеза будет левосторонней:  Пользователи с подпиской (ultra) в среднем тратят больше времени на поездки."
   ]
  },
  {
   "cell_type": "code",
   "execution_count": 26,
   "id": "ddfc5b4f",
   "metadata": {},
   "outputs": [
    {
     "name": "stdout",
     "output_type": "stream",
     "text": [
      "p-value: 1.6162210195311063e-29\n",
      "Отвергаем нулевую гипотезу\n"
     ]
    }
   ],
   "source": [
    "alpha = 0.05# уровень статистической значимости\n",
    "# если p-value окажется меньше него, отвергнем гипотезу\n",
    "\n",
    "results = st.ttest_ind(data_subscription_ultra['duration'], data_subscription_free['duration'], equal_var=False, alternative='greater')\n",
    "\n",
    "print(f'p-value: {results.pvalue}')\n",
    "\n",
    "if results.pvalue < alpha:\n",
    "    print('Отвергаем нулевую гипотезу')\n",
    "else:\n",
    "    print('Не получилось отвергнуть нулевую гипотезу') "
   ]
  },
  {
   "cell_type": "markdown",
   "id": "0394797a",
   "metadata": {},
   "source": [
    "Нулевая гипотеза отвергнута, пользователи с подпиской (ultra) в среднем тратят больше времени на поездки."
   ]
  },
  {
   "cell_type": "markdown",
   "id": "b517ae79",
   "metadata": {},
   "source": [
    "<span style=\"font-size: 14px;\"><b>6.2 Влияние наличия подписки на расстояние, коорое проезжают пользователи </b></span>"
   ]
  },
  {
   "cell_type": "markdown",
   "id": "03a61fef",
   "metadata": {},
   "source": [
    "Сформулируем нулевую гипотезу так: Пользователи с подпиской (ultra) в среднем проезжают расстояние равное 3130 метров. \n",
    "\n",
    "Альтернативная гипотеза будет левосторонней:  Пользователи с подпиской (ultra) в среднем проезжают расстояние больше 3130 метров."
   ]
  },
  {
   "cell_type": "code",
   "execution_count": 27,
   "id": "1aae5cd4",
   "metadata": {},
   "outputs": [
    {
     "name": "stdout",
     "output_type": "stream",
     "text": [
      "p-значение: 0.9195368847849785\n",
      "Не отвергаем нулевую гипотезу\n"
     ]
    }
   ],
   "source": [
    "target_value = 3130\n",
    "\n",
    "alpha = 0.05 # уровень статистической значимости\n",
    "\n",
    "results = st.ttest_1samp(\n",
    "    data_subscription_ultra['distance'], \n",
    "    target_value,\n",
    "      alternative='greater')\n",
    "\n",
    "print('p-значение:', results.pvalue)\n",
    "\n",
    "if (results.pvalue < alpha):\n",
    "    print('Отвергаем нулевую гипотезу')\n",
    "else:\n",
    "    print('Не отвергаем нулевую гипотезу') "
   ]
  },
  {
   "cell_type": "markdown",
   "id": "d8f6c196",
   "metadata": {},
   "source": [
    "Нулевая гипотеза не отвергнута, значит с высокой вероятностю пользователи с подпиской (ultra) в среднем проезжают не более 3130 метров."
   ]
  },
  {
   "cell_type": "markdown",
   "id": "fe86ac4c",
   "metadata": {},
   "source": [
    "<span style=\"font-size: 14px;\"><b>6.3 Влияние наличия подписки на помесячную выручку </b></span>"
   ]
  },
  {
   "cell_type": "markdown",
   "id": "d104d13b",
   "metadata": {},
   "source": [
    "Сформулируем нулевую гипотезу так: Пользователи с подпиской (ultra) и без подписки в среднем приносят одинаковую помесячную выручку. \n",
    "\n",
    "Альтернативная гипотеза будет левосторонней:  Пользователи с подпиской (ultra) в среднем приносят большую помесячную выручку чем пользователи без подписки (free)."
   ]
  },
  {
   "cell_type": "code",
   "execution_count": 28,
   "id": "8ee734c8",
   "metadata": {},
   "outputs": [
    {
     "name": "stdout",
     "output_type": "stream",
     "text": [
      "p-value: 2.4970242872858465e-38\n",
      "Отвергаем нулевую гипотезу\n"
     ]
    }
   ],
   "source": [
    "alpha = 0.05# уровень статистической значимости\n",
    "# если p-value окажется меньше него, отвергнем гипотезу\n",
    "\n",
    "results = st.ttest_ind(\n",
    "    data_all_sum_id_by_month['revenue'][data_all_sum_id_by_month['subscription_type'] == 'ultra'],\n",
    "    data_all_sum_id_by_month['revenue'][data_all_sum_id_by_month['subscription_type'] == 'free'], \n",
    "    equal_var=False, \n",
    "    alternative='greater'\n",
    ")\n",
    "\n",
    "print(f'p-value: {results.pvalue}')\n",
    "\n",
    "if results.pvalue < alpha:\n",
    "    print('Отвергаем нулевую гипотезу')\n",
    "else:\n",
    "    print('Не отвергаем нулевую гипотезу') "
   ]
  },
  {
   "cell_type": "markdown",
   "id": "a767b095",
   "metadata": {},
   "source": [
    "Нулевая гипотеза отвергнута, значит пользователи с подпиской (ultra) приносят большую помесячную выручку в сравнении с пользователями без подписки (free)."
   ]
  },
  {
   "cell_type": "markdown",
   "id": "40ae6b41",
   "metadata": {},
   "source": [
    "<span style=\"font-size: 14px;\"><b>6.4 Влияние обновления сервера на количество обращений</b></span>"
   ]
  },
  {
   "cell_type": "markdown",
   "id": "8b0d1cbc",
   "metadata": {},
   "source": [
    "При наличии датасета с количеством обращений пользователей до и после обновления, было бы необходимо выполнить проверку гипотезы о равенстве средних для зависимых (парных) выборок. Для этого надо применить метод scipy.stats.ttest_rel() и использовать параметр alternative='greater'. Если нулевая гипотеза будет отброшена, это будет означать, что с высокой вероятностью обращений до обновления сервера было больше чем после."
   ]
  },
  {
   "cell_type": "markdown",
   "id": "023958dd",
   "metadata": {},
   "source": [
    "#### Шаг 7. Распределения"
   ]
  },
  {
   "cell_type": "markdown",
   "id": "02fe323f",
   "metadata": {},
   "source": [
    "<span style=\"font-size: 14px;\"><b>7.1 Промокоды </b></span>"
   ]
  },
  {
   "cell_type": "markdown",
   "id": "166a6bef",
   "metadata": {},
   "source": [
    "Для решения задачи с необходимым количеством промокодов необходимо воспользоваться биноминальным распределением. Для начала построим график для 1000 попыток эксперимента бернули. "
   ]
  },
  {
   "cell_type": "code",
   "execution_count": 29,
   "id": "56865d8b",
   "metadata": {},
   "outputs": [
    {
     "name": "stderr",
     "output_type": "stream",
     "text": [
      "/opt/conda/lib/python3.9/site-packages/scipy/stats/_discrete_distns.py:78: RuntimeWarning: divide by zero encountered in _binom_pdf\n",
      "  return _boost._binom_pdf(x, n, p)\n"
     ]
    },
    {
     "data": {
      "text/plain": [
       "''"
      ]
     },
     "execution_count": 29,
     "metadata": {},
     "output_type": "execute_result"
    },
    {
     "data": {
      "image/png": "[encoded data removed]",
      "text/plain": [
       "<Figure size 432x288 with 1 Axes>"
      ]
     },
     "metadata": {
      "needs_background": "light"
     },
     "output_type": "display_data"
    }
   ],
   "source": [
    "\n",
    "\n",
    "n = 1000 # количество промокодов\n",
    "p = 0.1 # вероятность успеха\n",
    "\n",
    "distr = []\n",
    "\n",
    "for k in range(0, n + 1):\n",
    "    current_value = st.binom.pmf(k, n, p)\n",
    "    distr.append(current_value)\n",
    "    \n",
    "plt.bar(range(0, n + 1), distr)\n",
    "plt.xlim([0, 200])\n",
    "plt.xlabel(\"Количество продленных подписок\", fontsize=10, color='blue')\n",
    "plt.ylabel(\"вероятности\", fontsize=10, color='blue')\n",
    "plt.show\n",
    "''\n"
   ]
  },
  {
   "cell_type": "markdown",
   "id": "50505e3a",
   "metadata": {},
   "source": [
    "Видно что при 1000 промокодах вероятность привлечь 100 и более клиентов примерно 50 %. Значит нам потребуется больше 1000 промокодов.\n",
    "Построим график биноминального распределения при 1200 промокодах."
   ]
  },
  {
   "cell_type": "code",
   "execution_count": 30,
   "id": "824d3120",
   "metadata": {},
   "outputs": [
    {
     "data": {
      "text/plain": [
       "''"
      ]
     },
     "execution_count": 30,
     "metadata": {},
     "output_type": "execute_result"
    },
    {
     "data": {
      "image/png": "[encoded data removed]",
      "text/plain": [
       "<Figure size 432x288 with 1 Axes>"
      ]
     },
     "metadata": {
      "needs_background": "light"
     },
     "output_type": "display_data"
    }
   ],
   "source": [
    "n = 1200 # количество промокодов\n",
    "p = 0.1 # вероятность успеха\n",
    "\n",
    "distr = []\n",
    "\n",
    "for k in range(0, n + 1):\n",
    "    current_value = st.binom.pmf(k, n, p)\n",
    "    distr.append(current_value)\n",
    "    \n",
    "plt.bar(range(0, n + 1), distr)\n",
    "plt.xlim([0, 200])\n",
    "plt.xlabel(\"Количество продленных подписок\", fontsize=10, color='blue')\n",
    "plt.ylabel(\"вероятности\", fontsize=10, color='blue')\n",
    "plt.show\n",
    "''"
   ]
  },
  {
   "cell_type": "markdown",
   "id": "e7d0a480",
   "metadata": {},
   "source": [
    "По графику плотности вероятности, с помощью метода cdf() подберем такое колоичество промокодов, чтоб вероятность набрать меньше 100 клиентов была примерно равна 0.05."
   ]
  },
  {
   "cell_type": "code",
   "execution_count": 31,
   "id": "03c99c53",
   "metadata": {},
   "outputs": [
    {
     "name": "stdout",
     "output_type": "stream",
     "text": [
      "Нужно 1172 промокодов\n"
     ]
    }
   ],
   "source": [
    "alpha = 0.05 # верхняя граница вероятности неудачи\n",
    "\n",
    "p = 0.1 # вероятность успеха\n",
    "\n",
    "for n in range(1000, 1201):\n",
    "    current_value = st.binom.cdf(100, n, p)\n",
    "    if current_value < alpha:\n",
    "        print('Нужно', n, 'промокодов')\n",
    "        break\n",
    "    "
   ]
  },
  {
   "cell_type": "markdown",
   "id": "ab6c0ba6",
   "metadata": {},
   "source": [
    "Исходя из графиков биноминального распределения мы определили, что количество промокодов необходимых для получения 100 пользователей  с вероятностью 95% равняется примерно 1000-1200 шт. Далее используя функцию биноминального распределения, воспользовавшись методом cdf() и перебрав значения в промежутке 1000-1200 выяснили, что для привлечения 100 пользователей с вероятностью 95% необходимо раздать не менее 1172 промокодов."
   ]
  },
  {
   "cell_type": "markdown",
   "id": "e35a0c09",
   "metadata": {},
   "source": [
    "<span style=\"font-size: 14px;\"><b>7.2 Push-уведомления </b></span>"
   ]
  },
  {
   "cell_type": "markdown",
   "id": "bbf00146",
   "metadata": {},
   "source": [
    "Так как значение n (количество промокодов) достаточно большое, можно провести апроксимацию нормальным распределением. С помощью библиотеки seaborn построим примерный рафик распределения вероятностей. С помощью функции cdf() определим какая вероятность того, что уведомление не откроют менее 399,5 тыс. пользователей."
   ]
  },
  {
   "cell_type": "code",
   "execution_count": 32,
   "id": "97d41985",
   "metadata": {},
   "outputs": [
    {
     "name": "stdout",
     "output_type": "stream",
     "text": [
      "Вероятность того, что сообщение не откроют равна 0.15371708296369768\n"
     ]
    },
    {
     "data": {
      "text/plain": [
       "''"
      ]
     },
     "execution_count": 32,
     "metadata": {},
     "output_type": "execute_result"
    },
    {
     "data": {
      "image/png": "[encoded data removed]",
      "text/plain": [
       "<Figure size 432x288 with 1 Axes>"
      ]
     },
     "metadata": {
      "needs_background": "light"
     },
     "output_type": "display_data"
    }
   ],
   "source": [
    "\n",
    "\n",
    "n = 1000000 # количество уведомлений\n",
    "p = 0.4 # вероятность успеха\n",
    "\n",
    "mu = n * p # рассчитайте параметры \n",
    "sigma = sqrt(n * p * (1 - p)) # нормального распределения\n",
    "distr = st.norm(mu, sigma)\n",
    "\n",
    "sns.kdeplot(distr.rvs(n))\n",
    "\n",
    "print('Вероятность того, что сообщение не откроют равна', distr.cdf(399500))\n",
    "\n",
    "''\n",
    "\n"
   ]
  },
  {
   "cell_type": "markdown",
   "id": "a5bf9ec8",
   "metadata": {},
   "source": [
    "Вероятность того, что уведомление откроют не более 399,5 тыс. пользователей составляет около 15%."
   ]
  },
  {
   "cell_type": "markdown",
   "id": "62bfd1be",
   "metadata": {},
   "source": [
    "Дополнительно оценим сколько надо расослать push-уведомлений для того чтоб их открыло 1172 клиента с вероятностью не менее 95%."
   ]
  },
  {
   "cell_type": "code",
   "execution_count": 33,
   "id": "457d29a5",
   "metadata": {},
   "outputs": [
    {
     "name": "stdout",
     "output_type": "stream",
     "text": [
      "Нужно 3042 уведомлений\n"
     ]
    }
   ],
   "source": [
    "alpha = 0.05 # количество уведомлений\n",
    "p = 0.4 # вероятность успеха\n",
    "\n",
    "for n in range(2000, 5000):\n",
    "    mu = n * p # рассчитайте параметры \n",
    "    sigma = sqrt(n * p * (1 - p)) # нормального распределения\n",
    "    distr = st.norm(mu, sigma)\n",
    "    if distr.cdf(1172) < alpha:\n",
    "        print('Нужно', n, 'уведомлений')\n",
    "        break\n"
   ]
  },
  {
   "cell_type": "markdown",
   "id": "a8915022",
   "metadata": {},
   "source": [
    "#### Общий вывод"
   ]
  },
  {
   "cell_type": "markdown",
   "id": "ae2a1cda",
   "metadata": {},
   "source": [
    "<span style=\"font-size: 18px;\"><u><i>Задачей данного исследования было проанализировать данные сервиса аренды самокатов GoFast и проверьте некоторые гипотезы связанные с наличием платной подписки. Также дополнительно надо было оценить необходимое количество промокодов для достижения необходиых результатов акции и оценить вероятность открытия уведомлений определенным количеством пользователей. Было проведено исследование 3 датафреймов с сервиса аренды самокатов GoFast, данные насчитывали 1534 пользователя и 18068 сессий.\n",
    "</u></i>  </span>\n",
    "\n",
    "<span style=\"font-size: 18px;\"><i> В ходе выполнения исследования были выполнены следующие действия: </i></span> \n",
    "<span style=\"font-size: 18px;\"><i>\n",
    "1. Изучена общая информация из 3 датафреймов по пользователям, поездкам и типам подписок;\n",
    "2. Столбец с датами поездок приведен к формату datetime64. Для проведения дальнейшего анализа на ежемесячную выручку добавлен столбец с месяцем поездок. Выявлены и удалены дубликаты (всего 35) в датафрейме с данными пользователей.\n",
    "3. Оценена и визуализированна общая информация о: \n",
    "    частоте встречаемости городов; соотношении пользователей с подпиской и без подписки; \n",
    "    возрасте пользователей; \n",
    "    расстоянии, которое пользователь преодолел за одну поездку; \n",
    "    продолжительности поездок.\n",
    "4. Объедините данные о пользователях, поездках и подписках в один датафрейм. Из обьединенного датафрейма созданы два отдельных датафрейма по категориям с подпиской и без подписки.  Визуализирована информация о расстоянии и времени поездок для пользователей обеих категорий.\n",
    "5. Создана сводная таблица с данными о суммарном расстоянии, количестве поездок и суммарном времени для каждого пользователя за каждый месяц.\n",
    "6. Были проверены гипотезы о влиянии наличия подписки на среднее время и расстояние поездок, а также на помесячную выручку от пользователей. Был описан порядок проверки гипотезы о влиянии обновления сервера на количество обращений в поддержку.\n",
    "7. Дополнительно решена задача о необходимом количестве промокодов для привлечения определенного количества пользователей с заданной вероятностью. Также решена задача о вероятности открытия push-уведомлений определенным числом пользователей, при заданном количестве планируемых к отправке уведомлений.\n",
    "9. Подготовлен общий вывод.\n",
    "</i></span>"
   ]
  },
  {
   "cell_type": "markdown",
   "id": "af193c52",
   "metadata": {},
   "source": [
    "<span style=\"font-size: 22px;\"><u><i> Вывод:</i>  </span>\n",
    "    \n",
    "1. Выявлено что пользователи с подпиской (ultra) в среднем тратят больше времени на поездки, проезжают не более 3130 метров за одну сессию, но приносят помесячную выручку больше чем прользователи без подписки (free). \n",
    "    \n",
    "    \n",
    "2. Для оценки гипотезы об уменьшении обращений в поддержку после обновления сервера, необходимо  выполнить проверку равенства средних для зависимых (парных) выборок. Для этого надо применить метод scipy.stats.ttest_rel() и использовать параметр alternative='greater'. Если нулевая гипотеза будет отброшена, это будет означать, что с высокой вероятностью обращений до обновления сервера было больше чем после.\n",
    "    \n",
    "    \n",
    "3. Рассчитано, что при 10% вероятности продления подписки для того чтобы не менее 100 пользователей продлили подписку после бесплатного периода с вероятностью не менее 95%, необходимо раздать не менее 1172 промокодов.\n",
    "    \n",
    "    \n",
    "4. При вероятности открытия сообщений пользователем в 40%, если разошлют 1 млн push-увеломлений, то вероятность их открытия числом людей менее 399.5 тыс. составляет 15%.\n",
    "    \n",
    "    \n",
    "    \n",
    "    \n",
    "<span style=\"font-size: 22px;\"><u><i> Рекомендации:</i>  </span>\n",
    "    \n",
    "Пользователи с подпиской являются более выгодными для компании. Необходимо сфокусировать усилия на привлечении беольшего числа  новых пользователей с подпиской и побуждении имеющихся пользователей к ее покупке. Для этих целей мжно провести акцию с раздачей большого числа промокодов (ориентировочно из расчета 1172 промокода для увеличения на каждых 100 клиентов с подпиской) и рассылкой push-уведомлений (около 3042 для того чтобы 1172 человека узнали о получении промокода с вероятностью более 90 %)."
   ]
  }
 ],
 "metadata": {
  "ExecuteTimeLog": [
   {
    "duration": 52,
    "start_time": "2025-04-08T11:56:24.803Z"
   },
   {
    "duration": 962,
    "start_time": "2025-04-08T11:56:31.263Z"
   },
   {
    "duration": 383,
    "start_time": "2025-04-08T11:56:47.622Z"
   },
   {
    "duration": 118,
    "start_time": "2025-04-08T11:56:50.002Z"
   },
   {
    "duration": 3,
    "start_time": "2025-04-08T11:58:49.584Z"
   },
   {
    "duration": 3,
    "start_time": "2025-04-08T11:59:32.604Z"
   },
   {
    "duration": 19,
    "start_time": "2025-04-08T11:59:34.363Z"
   },
   {
    "duration": 22,
    "start_time": "2025-04-08T11:59:50.844Z"
   },
   {
    "duration": 33,
    "start_time": "2025-04-08T12:00:06.284Z"
   },
   {
    "duration": 30,
    "start_time": "2025-04-08T12:01:19.963Z"
   },
   {
    "duration": 26,
    "start_time": "2025-04-08T12:01:30.543Z"
   },
   {
    "duration": 31,
    "start_time": "2025-04-08T12:01:39.083Z"
   },
   {
    "duration": 30,
    "start_time": "2025-04-08T12:01:47.723Z"
   },
   {
    "duration": 3,
    "start_time": "2025-04-08T12:04:57.961Z"
   },
   {
    "duration": 57,
    "start_time": "2025-04-08T12:04:57.965Z"
   },
   {
    "duration": 42,
    "start_time": "2025-04-08T12:04:58.024Z"
   },
   {
    "duration": 26,
    "start_time": "2025-04-08T12:04:58.067Z"
   },
   {
    "duration": 73,
    "start_time": "2025-04-08T12:16:28.749Z"
   },
   {
    "duration": 234,
    "start_time": "2025-04-08T12:21:00.587Z"
   },
   {
    "duration": 98,
    "start_time": "2025-04-08T12:21:13.809Z"
   },
   {
    "duration": 14,
    "start_time": "2025-04-08T12:22:54.309Z"
   },
   {
    "duration": 1244,
    "start_time": "2025-04-08T12:23:11.127Z"
   },
   {
    "duration": 11,
    "start_time": "2025-04-08T12:24:09.616Z"
   },
   {
    "duration": 192,
    "start_time": "2025-04-08T12:24:18.406Z"
   },
   {
    "duration": 217,
    "start_time": "2025-04-08T12:24:39.248Z"
   },
   {
    "duration": 1230,
    "start_time": "2025-04-08T12:25:09.848Z"
   },
   {
    "duration": 189,
    "start_time": "2025-04-08T12:26:42.335Z"
   },
   {
    "duration": 184,
    "start_time": "2025-04-08T12:26:52.788Z"
   },
   {
    "duration": 211,
    "start_time": "2025-04-08T12:26:57.547Z"
   },
   {
    "duration": 3,
    "start_time": "2025-04-08T12:50:48.332Z"
   },
   {
    "duration": 72,
    "start_time": "2025-04-08T12:50:48.337Z"
   },
   {
    "duration": 41,
    "start_time": "2025-04-08T12:50:48.411Z"
   },
   {
    "duration": 27,
    "start_time": "2025-04-08T12:50:48.454Z"
   },
   {
    "duration": 107,
    "start_time": "2025-04-08T12:50:48.483Z"
   },
   {
    "duration": 220,
    "start_time": "2025-04-08T12:50:48.592Z"
   },
   {
    "duration": 20,
    "start_time": "2025-04-08T12:56:34.505Z"
   },
   {
    "duration": 100,
    "start_time": "2025-04-08T12:56:50.746Z"
   },
   {
    "duration": 3,
    "start_time": "2025-04-08T13:44:38.453Z"
   },
   {
    "duration": 32,
    "start_time": "2025-04-08T13:44:38.458Z"
   },
   {
    "duration": 40,
    "start_time": "2025-04-08T13:44:38.492Z"
   },
   {
    "duration": 26,
    "start_time": "2025-04-08T13:44:38.534Z"
   },
   {
    "duration": 94,
    "start_time": "2025-04-08T13:44:38.562Z"
   },
   {
    "duration": 225,
    "start_time": "2025-04-08T13:44:38.658Z"
   },
   {
    "duration": 14,
    "start_time": "2025-04-08T13:44:38.884Z"
   },
   {
    "duration": 37,
    "start_time": "2025-04-08T13:44:38.900Z"
   },
   {
    "duration": 6,
    "start_time": "2025-04-08T13:44:49.545Z"
   },
   {
    "duration": 9,
    "start_time": "2025-04-08T13:47:29.974Z"
   },
   {
    "duration": 6,
    "start_time": "2025-04-08T13:47:58.453Z"
   },
   {
    "duration": 4,
    "start_time": "2025-04-08T13:48:25.254Z"
   },
   {
    "duration": 130,
    "start_time": "2025-04-08T13:48:25.259Z"
   },
   {
    "duration": 41,
    "start_time": "2025-04-08T13:48:25.391Z"
   },
   {
    "duration": 26,
    "start_time": "2025-04-08T13:48:25.433Z"
   },
   {
    "duration": 106,
    "start_time": "2025-04-08T13:48:25.461Z"
   },
   {
    "duration": 221,
    "start_time": "2025-04-08T13:48:25.569Z"
   },
   {
    "duration": 14,
    "start_time": "2025-04-08T13:48:25.792Z"
   },
   {
    "duration": 78,
    "start_time": "2025-04-08T13:48:25.808Z"
   },
   {
    "duration": 24,
    "start_time": "2025-04-08T13:48:25.887Z"
   },
   {
    "duration": 8,
    "start_time": "2025-04-08T13:48:25.913Z"
   },
   {
    "duration": 13,
    "start_time": "2025-04-08T14:10:16.829Z"
   },
   {
    "duration": 5,
    "start_time": "2025-04-08T14:17:59.780Z"
   },
   {
    "duration": 99,
    "start_time": "2025-04-08T14:30:46.513Z"
   },
   {
    "duration": 98,
    "start_time": "2025-04-08T14:30:52.512Z"
   },
   {
    "duration": 119,
    "start_time": "2025-04-08T14:33:21.391Z"
   },
   {
    "duration": 127,
    "start_time": "2025-04-08T14:33:35.422Z"
   },
   {
    "duration": 140,
    "start_time": "2025-04-08T14:33:47.711Z"
   },
   {
    "duration": 132,
    "start_time": "2025-04-08T14:34:00.232Z"
   },
   {
    "duration": 137,
    "start_time": "2025-04-08T14:44:03.640Z"
   },
   {
    "duration": 203,
    "start_time": "2025-04-08T14:44:31.761Z"
   },
   {
    "duration": 14,
    "start_time": "2025-04-08T14:49:12.291Z"
   },
   {
    "duration": 14,
    "start_time": "2025-04-08T14:49:31.025Z"
   },
   {
    "duration": 133,
    "start_time": "2025-04-08T14:51:12.944Z"
   },
   {
    "duration": 123,
    "start_time": "2025-04-08T14:54:06.735Z"
   },
   {
    "duration": 92,
    "start_time": "2025-04-08T14:54:20.319Z"
   },
   {
    "duration": 3,
    "start_time": "2025-04-08T14:54:26.933Z"
   },
   {
    "duration": 36,
    "start_time": "2025-04-08T14:54:26.937Z"
   },
   {
    "duration": 38,
    "start_time": "2025-04-08T14:54:26.974Z"
   },
   {
    "duration": 24,
    "start_time": "2025-04-08T14:54:27.014Z"
   },
   {
    "duration": 12,
    "start_time": "2025-04-08T14:54:27.040Z"
   },
   {
    "duration": 8,
    "start_time": "2025-04-08T14:54:27.054Z"
   },
   {
    "duration": 5,
    "start_time": "2025-04-08T14:54:27.064Z"
   },
   {
    "duration": 5,
    "start_time": "2025-04-08T14:54:27.070Z"
   },
   {
    "duration": 7,
    "start_time": "2025-04-08T14:54:27.076Z"
   },
   {
    "duration": 11,
    "start_time": "2025-04-08T14:54:27.085Z"
   },
   {
    "duration": 130,
    "start_time": "2025-04-08T14:54:27.098Z"
   },
   {
    "duration": 176,
    "start_time": "2025-04-08T14:54:27.230Z"
   },
   {
    "duration": 210,
    "start_time": "2025-04-08T14:54:27.408Z"
   },
   {
    "duration": 235,
    "start_time": "2025-04-08T14:56:52.426Z"
   },
   {
    "duration": 151,
    "start_time": "2025-04-08T14:57:39.975Z"
   },
   {
    "duration": 167,
    "start_time": "2025-04-08T14:58:13.466Z"
   },
   {
    "duration": 171,
    "start_time": "2025-04-08T14:58:42.835Z"
   },
   {
    "duration": 272,
    "start_time": "2025-04-08T14:59:20.255Z"
   },
   {
    "duration": 164,
    "start_time": "2025-04-08T14:59:56.810Z"
   },
   {
    "duration": 158,
    "start_time": "2025-04-08T15:00:05.937Z"
   },
   {
    "duration": 106,
    "start_time": "2025-04-08T15:02:38.730Z"
   },
   {
    "duration": 132,
    "start_time": "2025-04-08T15:08:46.276Z"
   },
   {
    "duration": 129,
    "start_time": "2025-04-08T15:08:49.406Z"
   },
   {
    "duration": 170,
    "start_time": "2025-04-08T15:08:58.337Z"
   },
   {
    "duration": 155,
    "start_time": "2025-04-08T15:09:14.284Z"
   },
   {
    "duration": 136,
    "start_time": "2025-04-08T15:10:44.797Z"
   },
   {
    "duration": 135,
    "start_time": "2025-04-08T15:13:02.037Z"
   },
   {
    "duration": 221,
    "start_time": "2025-04-08T15:13:36.866Z"
   },
   {
    "duration": 149,
    "start_time": "2025-04-08T15:15:01.387Z"
   },
   {
    "duration": 141,
    "start_time": "2025-04-08T15:17:59.403Z"
   },
   {
    "duration": 134,
    "start_time": "2025-04-08T15:18:10.588Z"
   },
   {
    "duration": 128,
    "start_time": "2025-04-08T15:18:19.426Z"
   },
   {
    "duration": 131,
    "start_time": "2025-04-08T15:18:28.316Z"
   },
   {
    "duration": 134,
    "start_time": "2025-04-08T15:19:39.887Z"
   },
   {
    "duration": 140,
    "start_time": "2025-04-08T15:19:49.364Z"
   },
   {
    "duration": 133,
    "start_time": "2025-04-08T15:20:45.777Z"
   },
   {
    "duration": 145,
    "start_time": "2025-04-08T15:23:04.763Z"
   },
   {
    "duration": 127,
    "start_time": "2025-04-08T15:23:55.735Z"
   },
   {
    "duration": 116,
    "start_time": "2025-04-08T15:24:19.971Z"
   },
   {
    "duration": 238,
    "start_time": "2025-04-08T15:25:28.702Z"
   },
   {
    "duration": 172,
    "start_time": "2025-04-08T15:29:29.263Z"
   },
   {
    "duration": 1113,
    "start_time": "2025-04-09T05:26:50.611Z"
   },
   {
    "duration": 100,
    "start_time": "2025-04-09T05:26:51.726Z"
   },
   {
    "duration": 40,
    "start_time": "2025-04-09T05:26:51.828Z"
   },
   {
    "duration": 25,
    "start_time": "2025-04-09T05:26:51.870Z"
   },
   {
    "duration": 13,
    "start_time": "2025-04-09T05:26:51.897Z"
   },
   {
    "duration": 30,
    "start_time": "2025-04-09T05:26:51.912Z"
   },
   {
    "duration": 5,
    "start_time": "2025-04-09T05:26:51.944Z"
   },
   {
    "duration": 6,
    "start_time": "2025-04-09T05:26:51.950Z"
   },
   {
    "duration": 14,
    "start_time": "2025-04-09T05:26:51.957Z"
   },
   {
    "duration": 12,
    "start_time": "2025-04-09T05:26:51.972Z"
   },
   {
    "duration": 158,
    "start_time": "2025-04-09T05:26:51.985Z"
   },
   {
    "duration": 119,
    "start_time": "2025-04-09T05:26:52.144Z"
   },
   {
    "duration": 167,
    "start_time": "2025-04-09T05:26:52.264Z"
   },
   {
    "duration": 132,
    "start_time": "2025-04-09T05:26:52.434Z"
   },
   {
    "duration": 129,
    "start_time": "2025-04-09T05:26:52.571Z"
   },
   {
    "duration": 3,
    "start_time": "2025-04-09T05:28:04.050Z"
   },
   {
    "duration": 37,
    "start_time": "2025-04-09T05:28:04.054Z"
   },
   {
    "duration": 40,
    "start_time": "2025-04-09T05:28:04.092Z"
   },
   {
    "duration": 24,
    "start_time": "2025-04-09T05:28:04.134Z"
   },
   {
    "duration": 12,
    "start_time": "2025-04-09T05:28:04.160Z"
   },
   {
    "duration": 4,
    "start_time": "2025-04-09T05:28:04.173Z"
   },
   {
    "duration": 6,
    "start_time": "2025-04-09T05:28:04.178Z"
   },
   {
    "duration": 8,
    "start_time": "2025-04-09T05:28:04.185Z"
   },
   {
    "duration": 9,
    "start_time": "2025-04-09T05:28:04.194Z"
   },
   {
    "duration": 11,
    "start_time": "2025-04-09T05:28:04.204Z"
   },
   {
    "duration": 148,
    "start_time": "2025-04-09T05:28:04.216Z"
   },
   {
    "duration": 116,
    "start_time": "2025-04-09T05:28:04.371Z"
   },
   {
    "duration": 161,
    "start_time": "2025-04-09T05:28:04.489Z"
   },
   {
    "duration": 133,
    "start_time": "2025-04-09T05:28:04.652Z"
   },
   {
    "duration": 144,
    "start_time": "2025-04-09T05:28:04.786Z"
   },
   {
    "duration": 278,
    "start_time": "2025-04-09T05:35:32.290Z"
   },
   {
    "duration": 167,
    "start_time": "2025-04-09T05:35:41.811Z"
   },
   {
    "duration": 17,
    "start_time": "2025-04-09T05:46:19.552Z"
   },
   {
    "duration": 24,
    "start_time": "2025-04-09T05:47:33.372Z"
   },
   {
    "duration": 25,
    "start_time": "2025-04-09T05:47:51.512Z"
   },
   {
    "duration": 23,
    "start_time": "2025-04-09T05:48:06.051Z"
   },
   {
    "duration": 21,
    "start_time": "2025-04-09T06:05:21.894Z"
   },
   {
    "duration": 14,
    "start_time": "2025-04-09T06:05:40.522Z"
   },
   {
    "duration": 17,
    "start_time": "2025-04-09T06:05:52.574Z"
   },
   {
    "duration": 8,
    "start_time": "2025-04-09T06:07:40.254Z"
   },
   {
    "duration": 163,
    "start_time": "2025-04-09T06:13:24.357Z"
   },
   {
    "duration": 74,
    "start_time": "2025-04-09T06:13:36.483Z"
   },
   {
    "duration": 239,
    "start_time": "2025-04-09T06:13:53.585Z"
   },
   {
    "duration": 239,
    "start_time": "2025-04-09T06:18:20.580Z"
   },
   {
    "duration": 241,
    "start_time": "2025-04-09T06:18:43.339Z"
   },
   {
    "duration": 235,
    "start_time": "2025-04-09T06:19:46.479Z"
   },
   {
    "duration": 331,
    "start_time": "2025-04-09T06:19:59.319Z"
   },
   {
    "duration": 233,
    "start_time": "2025-04-09T06:20:59.180Z"
   },
   {
    "duration": 252,
    "start_time": "2025-04-09T06:21:07.361Z"
   },
   {
    "duration": 235,
    "start_time": "2025-04-09T06:21:13.441Z"
   },
   {
    "duration": 237,
    "start_time": "2025-04-09T06:21:21.100Z"
   },
   {
    "duration": 167,
    "start_time": "2025-04-09T06:29:21.317Z"
   },
   {
    "duration": 299,
    "start_time": "2025-04-09T06:30:20.592Z"
   },
   {
    "duration": 148,
    "start_time": "2025-04-09T06:33:21.031Z"
   },
   {
    "duration": 304,
    "start_time": "2025-04-09T06:37:09.352Z"
   },
   {
    "duration": 182,
    "start_time": "2025-04-09T06:37:25.753Z"
   },
   {
    "duration": 234,
    "start_time": "2025-04-09T06:37:38.051Z"
   },
   {
    "duration": 74,
    "start_time": "2025-04-09T06:42:14.793Z"
   },
   {
    "duration": 94,
    "start_time": "2025-04-09T06:43:31.712Z"
   },
   {
    "duration": 78,
    "start_time": "2025-04-09T06:43:44.192Z"
   },
   {
    "duration": 291,
    "start_time": "2025-04-09T06:44:14.610Z"
   },
   {
    "duration": 158,
    "start_time": "2025-04-09T06:45:59.312Z"
   },
   {
    "duration": 365,
    "start_time": "2025-04-09T06:46:32.112Z"
   },
   {
    "duration": 165,
    "start_time": "2025-04-09T06:48:03.475Z"
   },
   {
    "duration": 223,
    "start_time": "2025-04-09T06:49:11.714Z"
   },
   {
    "duration": 260,
    "start_time": "2025-04-09T06:49:52.016Z"
   },
   {
    "duration": 230,
    "start_time": "2025-04-09T06:50:10.254Z"
   },
   {
    "duration": 261,
    "start_time": "2025-04-09T06:53:13.304Z"
   },
   {
    "duration": 81,
    "start_time": "2025-04-09T06:55:12.518Z"
   },
   {
    "duration": 89,
    "start_time": "2025-04-09T06:55:23.585Z"
   },
   {
    "duration": 354,
    "start_time": "2025-04-09T06:55:29.578Z"
   },
   {
    "duration": 310,
    "start_time": "2025-04-09T06:56:31.738Z"
   },
   {
    "duration": 274,
    "start_time": "2025-04-09T07:00:16.720Z"
   },
   {
    "duration": 275,
    "start_time": "2025-04-09T07:00:35.980Z"
   },
   {
    "duration": 313,
    "start_time": "2025-04-09T07:02:15.960Z"
   },
   {
    "duration": 388,
    "start_time": "2025-04-09T07:03:27.540Z"
   },
   {
    "duration": 610,
    "start_time": "2025-04-09T07:05:21.349Z"
   },
   {
    "duration": 583,
    "start_time": "2025-04-09T07:05:45.801Z"
   },
   {
    "duration": 696,
    "start_time": "2025-04-09T07:07:29.202Z"
   },
   {
    "duration": 797,
    "start_time": "2025-04-09T07:08:27.510Z"
   },
   {
    "duration": 704,
    "start_time": "2025-04-09T07:08:38.491Z"
   },
   {
    "duration": 808,
    "start_time": "2025-04-09T07:08:48.462Z"
   },
   {
    "duration": 688,
    "start_time": "2025-04-09T07:09:04.522Z"
   },
   {
    "duration": 721,
    "start_time": "2025-04-09T07:10:58.544Z"
   },
   {
    "duration": 805,
    "start_time": "2025-04-09T07:11:13.442Z"
   },
   {
    "duration": 655,
    "start_time": "2025-04-09T07:18:13.705Z"
   },
   {
    "duration": 692,
    "start_time": "2025-04-09T07:18:26.526Z"
   },
   {
    "duration": 837,
    "start_time": "2025-04-09T07:18:44.507Z"
   },
   {
    "duration": 614,
    "start_time": "2025-04-09T07:18:59.425Z"
   },
   {
    "duration": 642,
    "start_time": "2025-04-09T07:19:10.344Z"
   },
   {
    "duration": 776,
    "start_time": "2025-04-09T07:19:42.706Z"
   },
   {
    "duration": 659,
    "start_time": "2025-04-09T07:19:48.087Z"
   },
   {
    "duration": 773,
    "start_time": "2025-04-09T07:19:53.306Z"
   },
   {
    "duration": 677,
    "start_time": "2025-04-09T07:20:02.687Z"
   },
   {
    "duration": 1261,
    "start_time": "2025-04-09T10:00:39.914Z"
   },
   {
    "duration": 116,
    "start_time": "2025-04-09T10:00:41.177Z"
   },
   {
    "duration": 46,
    "start_time": "2025-04-09T10:00:41.295Z"
   },
   {
    "duration": 26,
    "start_time": "2025-04-09T10:00:41.343Z"
   },
   {
    "duration": 89,
    "start_time": "2025-04-09T10:00:41.372Z"
   },
   {
    "duration": 86,
    "start_time": "2025-04-09T10:00:41.463Z"
   },
   {
    "duration": 106,
    "start_time": "2025-04-09T10:00:41.551Z"
   },
   {
    "duration": 115,
    "start_time": "2025-04-09T10:00:41.659Z"
   },
   {
    "duration": 25,
    "start_time": "2025-04-09T10:00:41.776Z"
   },
   {
    "duration": 41,
    "start_time": "2025-04-09T10:00:41.803Z"
   },
   {
    "duration": 168,
    "start_time": "2025-04-09T10:00:41.846Z"
   },
   {
    "duration": 125,
    "start_time": "2025-04-09T10:00:42.016Z"
   },
   {
    "duration": 179,
    "start_time": "2025-04-09T10:00:42.143Z"
   },
   {
    "duration": 217,
    "start_time": "2025-04-09T10:00:42.325Z"
   },
   {
    "duration": 197,
    "start_time": "2025-04-09T10:00:42.544Z"
   },
   {
    "duration": 37,
    "start_time": "2025-04-09T10:00:42.744Z"
   },
   {
    "duration": 12,
    "start_time": "2025-04-09T10:00:42.783Z"
   },
   {
    "duration": 738,
    "start_time": "2025-04-09T10:00:42.797Z"
   },
   {
    "duration": 22,
    "start_time": "2025-04-09T10:13:29.604Z"
   },
   {
    "duration": 102,
    "start_time": "2025-04-09T10:21:00.200Z"
   },
   {
    "duration": 12,
    "start_time": "2025-04-09T10:21:11.685Z"
   },
   {
    "duration": 88,
    "start_time": "2025-04-09T10:25:57.621Z"
   },
   {
    "duration": 92,
    "start_time": "2025-04-09T10:26:15.521Z"
   },
   {
    "duration": 102,
    "start_time": "2025-04-09T10:35:51.867Z"
   },
   {
    "duration": 23,
    "start_time": "2025-04-09T10:36:02.656Z"
   },
   {
    "duration": 226,
    "start_time": "2025-04-09T10:37:14.926Z"
   },
   {
    "duration": 36,
    "start_time": "2025-04-09T10:41:10.163Z"
   },
   {
    "duration": 34,
    "start_time": "2025-04-09T10:41:45.722Z"
   },
   {
    "duration": 42,
    "start_time": "2025-04-09T10:42:16.464Z"
   },
   {
    "duration": 39,
    "start_time": "2025-04-09T10:43:22.961Z"
   },
   {
    "duration": 604,
    "start_time": "2025-04-09T10:43:34.782Z"
   },
   {
    "duration": 643,
    "start_time": "2025-04-09T10:45:12.963Z"
   },
   {
    "duration": 4,
    "start_time": "2025-04-09T10:46:37.283Z"
   },
   {
    "duration": 124,
    "start_time": "2025-04-09T10:46:37.289Z"
   },
   {
    "duration": 45,
    "start_time": "2025-04-09T10:46:37.414Z"
   },
   {
    "duration": 33,
    "start_time": "2025-04-09T10:46:37.462Z"
   },
   {
    "duration": 22,
    "start_time": "2025-04-09T10:46:37.498Z"
   },
   {
    "duration": 7,
    "start_time": "2025-04-09T10:46:37.522Z"
   },
   {
    "duration": 51,
    "start_time": "2025-04-09T10:46:37.531Z"
   },
   {
    "duration": 98,
    "start_time": "2025-04-09T10:46:37.585Z"
   },
   {
    "duration": 50,
    "start_time": "2025-04-09T10:46:37.685Z"
   },
   {
    "duration": 55,
    "start_time": "2025-04-09T10:46:37.737Z"
   },
   {
    "duration": 172,
    "start_time": "2025-04-09T10:46:37.794Z"
   },
   {
    "duration": 139,
    "start_time": "2025-04-09T10:46:37.968Z"
   },
   {
    "duration": 185,
    "start_time": "2025-04-09T10:46:38.109Z"
   },
   {
    "duration": 226,
    "start_time": "2025-04-09T10:46:38.298Z"
   },
   {
    "duration": 214,
    "start_time": "2025-04-09T10:46:38.526Z"
   },
   {
    "duration": 41,
    "start_time": "2025-04-09T10:46:38.742Z"
   },
   {
    "duration": 12,
    "start_time": "2025-04-09T10:46:38.785Z"
   },
   {
    "duration": 909,
    "start_time": "2025-04-09T10:46:38.799Z"
   },
   {
    "duration": 620,
    "start_time": "2025-04-09T10:46:39.710Z"
   },
   {
    "duration": 33,
    "start_time": "2025-04-09T10:46:40.332Z"
   },
   {
    "duration": 607,
    "start_time": "2025-04-09T10:51:46.162Z"
   },
   {
    "duration": 590,
    "start_time": "2025-04-09T10:51:48.763Z"
   },
   {
    "duration": 3,
    "start_time": "2025-04-09T11:54:15.340Z"
   },
   {
    "duration": 47,
    "start_time": "2025-04-09T11:54:15.348Z"
   },
   {
    "duration": 50,
    "start_time": "2025-04-09T11:54:15.397Z"
   },
   {
    "duration": 44,
    "start_time": "2025-04-09T11:54:15.449Z"
   },
   {
    "duration": 38,
    "start_time": "2025-04-09T11:54:15.495Z"
   },
   {
    "duration": 68,
    "start_time": "2025-04-09T11:54:15.534Z"
   },
   {
    "duration": 6,
    "start_time": "2025-04-09T11:54:15.604Z"
   },
   {
    "duration": 55,
    "start_time": "2025-04-09T11:54:15.612Z"
   },
   {
    "duration": 78,
    "start_time": "2025-04-09T11:54:15.669Z"
   },
   {
    "duration": 70,
    "start_time": "2025-04-09T11:54:15.748Z"
   },
   {
    "duration": 161,
    "start_time": "2025-04-09T11:54:15.821Z"
   },
   {
    "duration": 123,
    "start_time": "2025-04-09T11:54:15.983Z"
   },
   {
    "duration": 154,
    "start_time": "2025-04-09T11:54:16.108Z"
   },
   {
    "duration": 198,
    "start_time": "2025-04-09T11:54:16.264Z"
   },
   {
    "duration": 289,
    "start_time": "2025-04-09T11:54:16.464Z"
   },
   {
    "duration": 32,
    "start_time": "2025-04-09T11:54:16.756Z"
   },
   {
    "duration": 9,
    "start_time": "2025-04-09T11:54:16.790Z"
   },
   {
    "duration": 730,
    "start_time": "2025-04-09T11:54:16.800Z"
   },
   {
    "duration": 590,
    "start_time": "2025-04-09T11:54:17.531Z"
   },
   {
    "duration": 18,
    "start_time": "2025-04-09T11:54:18.123Z"
   },
   {
    "duration": 648,
    "start_time": "2025-04-09T11:59:33.579Z"
   },
   {
    "duration": 81,
    "start_time": "2025-04-09T12:01:20.926Z"
   },
   {
    "duration": 603,
    "start_time": "2025-04-09T12:01:37.328Z"
   },
   {
    "duration": 19,
    "start_time": "2025-04-09T12:03:16.129Z"
   },
   {
    "duration": 28,
    "start_time": "2025-04-09T12:03:38.861Z"
   },
   {
    "duration": 105,
    "start_time": "2025-04-09T12:07:28.267Z"
   },
   {
    "duration": 216,
    "start_time": "2025-04-09T12:08:13.257Z"
   },
   {
    "duration": 41,
    "start_time": "2025-04-09T12:11:00.539Z"
   },
   {
    "duration": 39,
    "start_time": "2025-04-09T12:11:37.100Z"
   },
   {
    "duration": 44,
    "start_time": "2025-04-09T12:12:03.469Z"
   },
   {
    "duration": 38,
    "start_time": "2025-04-09T12:23:53.449Z"
   },
   {
    "duration": 39,
    "start_time": "2025-04-09T12:40:06.649Z"
   },
   {
    "duration": 3,
    "start_time": "2025-04-09T12:44:26.073Z"
   },
   {
    "duration": 43,
    "start_time": "2025-04-09T12:44:26.078Z"
   },
   {
    "duration": 42,
    "start_time": "2025-04-09T12:44:26.123Z"
   },
   {
    "duration": 27,
    "start_time": "2025-04-09T12:44:26.167Z"
   },
   {
    "duration": 13,
    "start_time": "2025-04-09T12:44:26.196Z"
   },
   {
    "duration": 29,
    "start_time": "2025-04-09T12:44:26.211Z"
   },
   {
    "duration": 12,
    "start_time": "2025-04-09T12:44:26.242Z"
   },
   {
    "duration": 10,
    "start_time": "2025-04-09T12:44:26.256Z"
   },
   {
    "duration": 14,
    "start_time": "2025-04-09T12:44:26.268Z"
   },
   {
    "duration": 54,
    "start_time": "2025-04-09T12:44:26.283Z"
   },
   {
    "duration": 173,
    "start_time": "2025-04-09T12:44:26.339Z"
   },
   {
    "duration": 122,
    "start_time": "2025-04-09T12:44:26.514Z"
   },
   {
    "duration": 188,
    "start_time": "2025-04-09T12:44:26.637Z"
   },
   {
    "duration": 317,
    "start_time": "2025-04-09T12:44:26.829Z"
   },
   {
    "duration": 207,
    "start_time": "2025-04-09T12:44:27.148Z"
   },
   {
    "duration": 23,
    "start_time": "2025-04-09T12:44:27.361Z"
   },
   {
    "duration": 10,
    "start_time": "2025-04-09T12:44:27.387Z"
   },
   {
    "duration": 780,
    "start_time": "2025-04-09T12:44:27.398Z"
   },
   {
    "duration": 615,
    "start_time": "2025-04-09T12:44:28.180Z"
   },
   {
    "duration": 40,
    "start_time": "2025-04-09T12:44:28.797Z"
   },
   {
    "duration": 831,
    "start_time": "2025-04-09T12:48:44.980Z"
   },
   {
    "duration": 777,
    "start_time": "2025-04-09T12:50:34.630Z"
   },
   {
    "duration": 806,
    "start_time": "2025-04-09T12:51:22.110Z"
   },
   {
    "duration": 1071,
    "start_time": "2025-04-09T12:52:06.891Z"
   },
   {
    "duration": 193,
    "start_time": "2025-04-09T12:59:12.873Z"
   },
   {
    "duration": 250,
    "start_time": "2025-04-09T12:59:55.433Z"
   },
   {
    "duration": 192,
    "start_time": "2025-04-09T13:00:43.869Z"
   },
   {
    "duration": 264,
    "start_time": "2025-04-09T13:00:46.518Z"
   },
   {
    "duration": 135,
    "start_time": "2025-04-09T13:01:11.678Z"
   },
   {
    "duration": 158,
    "start_time": "2025-04-09T13:01:50.235Z"
   },
   {
    "duration": 3,
    "start_time": "2025-04-09T13:02:29.590Z"
   },
   {
    "duration": 96,
    "start_time": "2025-04-09T13:02:29.595Z"
   },
   {
    "duration": 44,
    "start_time": "2025-04-09T13:02:29.693Z"
   },
   {
    "duration": 27,
    "start_time": "2025-04-09T13:02:29.739Z"
   },
   {
    "duration": 14,
    "start_time": "2025-04-09T13:02:29.768Z"
   },
   {
    "duration": 23,
    "start_time": "2025-04-09T13:02:29.783Z"
   },
   {
    "duration": 6,
    "start_time": "2025-04-09T13:02:29.808Z"
   },
   {
    "duration": 10,
    "start_time": "2025-04-09T13:02:29.816Z"
   },
   {
    "duration": 24,
    "start_time": "2025-04-09T13:02:29.828Z"
   },
   {
    "duration": 121,
    "start_time": "2025-04-09T13:02:29.861Z"
   },
   {
    "duration": 158,
    "start_time": "2025-04-09T13:02:29.984Z"
   },
   {
    "duration": 145,
    "start_time": "2025-04-09T13:02:30.144Z"
   },
   {
    "duration": 244,
    "start_time": "2025-04-09T13:02:30.291Z"
   },
   {
    "duration": 228,
    "start_time": "2025-04-09T13:02:30.537Z"
   },
   {
    "duration": 215,
    "start_time": "2025-04-09T13:02:30.767Z"
   },
   {
    "duration": 36,
    "start_time": "2025-04-09T13:02:30.984Z"
   },
   {
    "duration": 15,
    "start_time": "2025-04-09T13:02:31.022Z"
   },
   {
    "duration": 940,
    "start_time": "2025-04-09T13:02:31.040Z"
   },
   {
    "duration": 799,
    "start_time": "2025-04-09T13:02:31.982Z"
   },
   {
    "duration": 35,
    "start_time": "2025-04-09T13:02:32.782Z"
   },
   {
    "duration": 41,
    "start_time": "2025-04-09T13:54:59.277Z"
   },
   {
    "duration": 4,
    "start_time": "2025-04-09T13:55:06.237Z"
   },
   {
    "duration": 68,
    "start_time": "2025-04-09T13:55:06.243Z"
   },
   {
    "duration": 54,
    "start_time": "2025-04-09T13:55:06.313Z"
   },
   {
    "duration": 27,
    "start_time": "2025-04-09T13:55:06.370Z"
   },
   {
    "duration": 20,
    "start_time": "2025-04-09T13:55:06.399Z"
   },
   {
    "duration": 62,
    "start_time": "2025-04-09T13:55:06.421Z"
   },
   {
    "duration": 192,
    "start_time": "2025-04-09T13:55:06.484Z"
   },
   {
    "duration": 46,
    "start_time": "2025-04-09T13:55:06.678Z"
   },
   {
    "duration": 53,
    "start_time": "2025-04-09T13:55:06.727Z"
   },
   {
    "duration": 27,
    "start_time": "2025-04-09T13:55:06.782Z"
   },
   {
    "duration": 172,
    "start_time": "2025-04-09T13:55:06.811Z"
   },
   {
    "duration": 146,
    "start_time": "2025-04-09T13:55:06.985Z"
   },
   {
    "duration": 204,
    "start_time": "2025-04-09T13:55:07.133Z"
   },
   {
    "duration": 266,
    "start_time": "2025-04-09T13:55:07.339Z"
   },
   {
    "duration": 217,
    "start_time": "2025-04-09T13:55:07.608Z"
   },
   {
    "duration": 35,
    "start_time": "2025-04-09T13:55:07.827Z"
   },
   {
    "duration": 14,
    "start_time": "2025-04-09T13:55:07.864Z"
   },
   {
    "duration": 809,
    "start_time": "2025-04-09T13:55:07.880Z"
   },
   {
    "duration": 717,
    "start_time": "2025-04-09T13:55:08.691Z"
   },
   {
    "duration": 39,
    "start_time": "2025-04-09T13:55:09.410Z"
   },
   {
    "duration": 49,
    "start_time": "2025-04-09T13:56:20.727Z"
   },
   {
    "duration": 50,
    "start_time": "2025-04-09T13:57:01.096Z"
   },
   {
    "duration": 40,
    "start_time": "2025-04-09T14:02:18.167Z"
   },
   {
    "duration": 42,
    "start_time": "2025-04-09T14:07:30.977Z"
   },
   {
    "duration": 44,
    "start_time": "2025-04-09T14:10:15.938Z"
   },
   {
    "duration": 3462,
    "start_time": "2025-04-09T14:10:45.582Z"
   },
   {
    "duration": 8170,
    "start_time": "2025-04-09T14:12:38.241Z"
   },
   {
    "duration": 1441,
    "start_time": "2025-04-09T14:14:15.410Z"
   },
   {
    "duration": 9134,
    "start_time": "2025-04-09T14:15:40.396Z"
   },
   {
    "duration": 46,
    "start_time": "2025-04-09T14:18:06.080Z"
   },
   {
    "duration": 52,
    "start_time": "2025-04-09T14:18:15.059Z"
   },
   {
    "duration": 7620,
    "start_time": "2025-04-09T14:22:10.742Z"
   },
   {
    "duration": 13,
    "start_time": "2025-04-09T14:33:28.499Z"
   },
   {
    "duration": 14,
    "start_time": "2025-04-09T14:34:17.049Z"
   },
   {
    "duration": 14,
    "start_time": "2025-04-09T14:34:27.330Z"
   },
   {
    "duration": 14,
    "start_time": "2025-04-09T14:34:40.589Z"
   },
   {
    "duration": 14,
    "start_time": "2025-04-09T14:35:18.480Z"
   },
   {
    "duration": 16,
    "start_time": "2025-04-09T14:35:31.928Z"
   },
   {
    "duration": 359,
    "start_time": "2025-04-09T14:39:41.875Z"
   },
   {
    "duration": 442,
    "start_time": "2025-04-09T14:40:04.875Z"
   },
   {
    "duration": 858,
    "start_time": "2025-04-09T14:46:14.604Z"
   },
   {
    "duration": 641,
    "start_time": "2025-04-09T14:50:34.841Z"
   },
   {
    "duration": 559,
    "start_time": "2025-04-09T14:51:13.701Z"
   },
   {
    "duration": 564,
    "start_time": "2025-04-09T14:51:35.316Z"
   },
   {
    "duration": 1267,
    "start_time": "2025-04-10T05:22:13.302Z"
   },
   {
    "duration": 95,
    "start_time": "2025-04-10T05:22:14.571Z"
   },
   {
    "duration": 45,
    "start_time": "2025-04-10T05:22:14.668Z"
   },
   {
    "duration": 27,
    "start_time": "2025-04-10T05:22:14.715Z"
   },
   {
    "duration": 15,
    "start_time": "2025-04-10T05:22:14.743Z"
   },
   {
    "duration": 36,
    "start_time": "2025-04-10T05:22:14.759Z"
   },
   {
    "duration": 103,
    "start_time": "2025-04-10T05:22:14.797Z"
   },
   {
    "duration": 29,
    "start_time": "2025-04-10T05:22:14.902Z"
   },
   {
    "duration": 22,
    "start_time": "2025-04-10T05:22:14.933Z"
   },
   {
    "duration": 42,
    "start_time": "2025-04-10T05:22:14.958Z"
   },
   {
    "duration": 300,
    "start_time": "2025-04-10T05:22:15.002Z"
   },
   {
    "duration": 139,
    "start_time": "2025-04-10T05:22:15.304Z"
   },
   {
    "duration": 183,
    "start_time": "2025-04-10T05:22:15.445Z"
   },
   {
    "duration": 221,
    "start_time": "2025-04-10T05:22:15.636Z"
   },
   {
    "duration": 205,
    "start_time": "2025-04-10T05:22:15.859Z"
   },
   {
    "duration": 26,
    "start_time": "2025-04-10T05:22:16.065Z"
   },
   {
    "duration": 10,
    "start_time": "2025-04-10T05:22:16.093Z"
   },
   {
    "duration": 845,
    "start_time": "2025-04-10T05:22:16.104Z"
   },
   {
    "duration": 586,
    "start_time": "2025-04-10T05:22:16.951Z"
   },
   {
    "duration": 7212,
    "start_time": "2025-04-10T05:22:17.539Z"
   },
   {
    "duration": 6,
    "start_time": "2025-04-10T05:22:24.752Z"
   },
   {
    "duration": 527,
    "start_time": "2025-04-10T05:22:24.759Z"
   },
   {
    "duration": 5,
    "start_time": "2025-04-10T07:05:29.907Z"
   },
   {
    "duration": 6,
    "start_time": "2025-04-10T07:08:12.761Z"
   },
   {
    "duration": 6,
    "start_time": "2025-04-10T07:08:28.099Z"
   },
   {
    "duration": 25,
    "start_time": "2025-04-10T07:12:03.931Z"
   },
   {
    "duration": 104,
    "start_time": "2025-04-10T07:12:49.910Z"
   },
   {
    "duration": 25,
    "start_time": "2025-04-10T07:12:56.849Z"
   },
   {
    "duration": 25,
    "start_time": "2025-04-10T07:13:13.629Z"
   },
   {
    "duration": 95,
    "start_time": "2025-04-10T07:13:25.310Z"
   },
   {
    "duration": 26,
    "start_time": "2025-04-10T07:13:35.830Z"
   },
   {
    "duration": 25,
    "start_time": "2025-04-10T07:13:56.118Z"
   },
   {
    "duration": 6,
    "start_time": "2025-04-10T07:15:01.118Z"
   },
   {
    "duration": 6,
    "start_time": "2025-04-10T07:15:11.858Z"
   },
   {
    "duration": 5,
    "start_time": "2025-04-10T07:15:34.158Z"
   },
   {
    "duration": 6,
    "start_time": "2025-04-10T07:15:38.988Z"
   },
   {
    "duration": 5,
    "start_time": "2025-04-10T07:16:58.476Z"
   },
   {
    "duration": 5,
    "start_time": "2025-04-10T07:17:01.444Z"
   },
   {
    "duration": 4,
    "start_time": "2025-04-10T07:17:03.574Z"
   },
   {
    "duration": 7,
    "start_time": "2025-04-10T07:18:22.074Z"
   },
   {
    "duration": 1245,
    "start_time": "2025-04-10T08:55:27.428Z"
   },
   {
    "duration": 117,
    "start_time": "2025-04-10T08:55:28.675Z"
   },
   {
    "duration": 45,
    "start_time": "2025-04-10T08:55:28.793Z"
   },
   {
    "duration": 27,
    "start_time": "2025-04-10T08:55:28.840Z"
   },
   {
    "duration": 15,
    "start_time": "2025-04-10T08:55:28.869Z"
   },
   {
    "duration": 5,
    "start_time": "2025-04-10T08:55:28.885Z"
   },
   {
    "duration": 7,
    "start_time": "2025-04-10T08:55:28.891Z"
   },
   {
    "duration": 5,
    "start_time": "2025-04-10T08:55:28.899Z"
   },
   {
    "duration": 8,
    "start_time": "2025-04-10T08:55:28.906Z"
   },
   {
    "duration": 53,
    "start_time": "2025-04-10T08:55:28.916Z"
   },
   {
    "duration": 181,
    "start_time": "2025-04-10T08:55:28.971Z"
   },
   {
    "duration": 140,
    "start_time": "2025-04-10T08:55:29.154Z"
   },
   {
    "duration": 179,
    "start_time": "2025-04-10T08:55:29.296Z"
   },
   {
    "duration": 234,
    "start_time": "2025-04-10T08:55:29.479Z"
   },
   {
    "duration": 214,
    "start_time": "2025-04-10T08:55:29.716Z"
   },
   {
    "duration": 37,
    "start_time": "2025-04-10T08:55:29.932Z"
   },
   {
    "duration": 31,
    "start_time": "2025-04-10T08:55:29.971Z"
   },
   {
    "duration": 918,
    "start_time": "2025-04-10T08:55:30.004Z"
   },
   {
    "duration": 593,
    "start_time": "2025-04-10T08:55:30.923Z"
   },
   {
    "duration": 7306,
    "start_time": "2025-04-10T08:55:31.519Z"
   },
   {
    "duration": 5,
    "start_time": "2025-04-10T08:55:38.827Z"
   },
   {
    "duration": 7,
    "start_time": "2025-04-10T08:55:38.834Z"
   },
   {
    "duration": 20,
    "start_time": "2025-04-10T08:55:38.843Z"
   },
   {
    "duration": 580,
    "start_time": "2025-04-10T08:55:38.865Z"
   },
   {
    "duration": 5,
    "start_time": "2025-04-10T08:55:47.476Z"
   },
   {
    "duration": 5,
    "start_time": "2025-04-10T08:55:56.466Z"
   },
   {
    "duration": 5,
    "start_time": "2025-04-10T09:00:38.787Z"
   },
   {
    "duration": 8,
    "start_time": "2025-04-10T09:23:35.222Z"
   },
   {
    "duration": 7,
    "start_time": "2025-04-10T09:23:47.202Z"
   },
   {
    "duration": 8,
    "start_time": "2025-04-10T09:24:15.973Z"
   },
   {
    "duration": 8,
    "start_time": "2025-04-10T09:25:06.151Z"
   },
   {
    "duration": 98,
    "start_time": "2025-04-10T10:17:37.425Z"
   },
   {
    "duration": 4,
    "start_time": "2025-04-10T10:18:21.644Z"
   },
   {
    "duration": 33,
    "start_time": "2025-04-10T10:18:21.650Z"
   },
   {
    "duration": 42,
    "start_time": "2025-04-10T10:18:21.685Z"
   },
   {
    "duration": 59,
    "start_time": "2025-04-10T10:18:21.729Z"
   },
   {
    "duration": 15,
    "start_time": "2025-04-10T10:18:21.790Z"
   },
   {
    "duration": 5,
    "start_time": "2025-04-10T10:18:21.806Z"
   },
   {
    "duration": 6,
    "start_time": "2025-04-10T10:18:21.813Z"
   },
   {
    "duration": 7,
    "start_time": "2025-04-10T10:18:21.820Z"
   },
   {
    "duration": 11,
    "start_time": "2025-04-10T10:18:21.828Z"
   },
   {
    "duration": 77,
    "start_time": "2025-04-10T10:18:21.861Z"
   },
   {
    "duration": 143,
    "start_time": "2025-04-10T10:18:21.940Z"
   },
   {
    "duration": 137,
    "start_time": "2025-04-10T10:18:22.085Z"
   },
   {
    "duration": 193,
    "start_time": "2025-04-10T10:18:22.224Z"
   },
   {
    "duration": 237,
    "start_time": "2025-04-10T10:18:22.421Z"
   },
   {
    "duration": 318,
    "start_time": "2025-04-10T10:18:22.661Z"
   },
   {
    "duration": 25,
    "start_time": "2025-04-10T10:18:22.981Z"
   },
   {
    "duration": 28,
    "start_time": "2025-04-10T10:18:23.008Z"
   },
   {
    "duration": 814,
    "start_time": "2025-04-10T10:18:23.038Z"
   },
   {
    "duration": 634,
    "start_time": "2025-04-10T10:18:23.853Z"
   },
   {
    "duration": 7653,
    "start_time": "2025-04-10T10:18:24.489Z"
   },
   {
    "duration": 16,
    "start_time": "2025-04-10T10:18:32.144Z"
   },
   {
    "duration": 7,
    "start_time": "2025-04-10T10:18:32.162Z"
   },
   {
    "duration": 8,
    "start_time": "2025-04-10T10:18:32.170Z"
   },
   {
    "duration": 19,
    "start_time": "2025-04-10T10:18:32.179Z"
   },
   {
    "duration": 6,
    "start_time": "2025-04-10T10:18:47.093Z"
   },
   {
    "duration": 5,
    "start_time": "2025-04-10T10:18:59.523Z"
   },
   {
    "duration": 7,
    "start_time": "2025-04-10T10:19:22.973Z"
   },
   {
    "duration": 8,
    "start_time": "2025-04-10T10:19:28.975Z"
   },
   {
    "duration": 8,
    "start_time": "2025-04-10T10:19:35.724Z"
   },
   {
    "duration": 5,
    "start_time": "2025-04-10T10:19:41.105Z"
   },
   {
    "duration": 5,
    "start_time": "2025-04-10T10:19:46.352Z"
   },
   {
    "duration": 5,
    "start_time": "2025-04-10T10:19:51.204Z"
   },
   {
    "duration": 6,
    "start_time": "2025-04-10T10:20:00.283Z"
   },
   {
    "duration": 6,
    "start_time": "2025-04-10T10:20:06.993Z"
   },
   {
    "duration": 8,
    "start_time": "2025-04-10T10:20:16.053Z"
   },
   {
    "duration": 566,
    "start_time": "2025-04-10T10:27:30.385Z"
   },
   {
    "duration": 555,
    "start_time": "2025-04-10T10:28:22.540Z"
   },
   {
    "duration": 591,
    "start_time": "2025-04-10T10:28:32.201Z"
   },
   {
    "duration": 4,
    "start_time": "2025-04-10T10:28:59.321Z"
   },
   {
    "duration": 43,
    "start_time": "2025-04-10T10:28:59.328Z"
   },
   {
    "duration": 42,
    "start_time": "2025-04-10T10:28:59.373Z"
   },
   {
    "duration": 29,
    "start_time": "2025-04-10T10:28:59.418Z"
   },
   {
    "duration": 17,
    "start_time": "2025-04-10T10:28:59.450Z"
   },
   {
    "duration": 6,
    "start_time": "2025-04-10T10:28:59.470Z"
   },
   {
    "duration": 7,
    "start_time": "2025-04-10T10:28:59.477Z"
   },
   {
    "duration": 44,
    "start_time": "2025-04-10T10:28:59.486Z"
   },
   {
    "duration": 16,
    "start_time": "2025-04-10T10:28:59.531Z"
   },
   {
    "duration": 19,
    "start_time": "2025-04-10T10:28:59.548Z"
   },
   {
    "duration": 163,
    "start_time": "2025-04-10T10:28:59.570Z"
   },
   {
    "duration": 146,
    "start_time": "2025-04-10T10:28:59.735Z"
   },
   {
    "duration": 194,
    "start_time": "2025-04-10T10:28:59.884Z"
   },
   {
    "duration": 239,
    "start_time": "2025-04-10T10:29:00.081Z"
   },
   {
    "duration": 371,
    "start_time": "2025-04-10T10:29:00.322Z"
   },
   {
    "duration": 27,
    "start_time": "2025-04-10T10:29:00.695Z"
   },
   {
    "duration": 52,
    "start_time": "2025-04-10T10:29:00.724Z"
   },
   {
    "duration": 815,
    "start_time": "2025-04-10T10:29:00.778Z"
   },
   {
    "duration": 632,
    "start_time": "2025-04-10T10:29:01.595Z"
   },
   {
    "duration": 7706,
    "start_time": "2025-04-10T10:29:02.229Z"
   },
   {
    "duration": 6,
    "start_time": "2025-04-10T10:29:09.936Z"
   },
   {
    "duration": 26,
    "start_time": "2025-04-10T10:29:09.944Z"
   },
   {
    "duration": 9,
    "start_time": "2025-04-10T10:29:09.972Z"
   },
   {
    "duration": 609,
    "start_time": "2025-04-10T10:29:09.982Z"
   },
   {
    "duration": 0,
    "start_time": "2025-04-10T10:29:10.593Z"
   },
   {
    "duration": 613,
    "start_time": "2025-04-10T10:30:02.561Z"
   },
   {
    "duration": 616,
    "start_time": "2025-04-10T10:31:33.220Z"
   },
   {
    "duration": 9,
    "start_time": "2025-04-10T10:32:14.380Z"
   },
   {
    "duration": 285,
    "start_time": "2025-04-10T10:33:28.119Z"
   },
   {
    "duration": 3064,
    "start_time": "2025-04-10T10:33:56.921Z"
   },
   {
    "duration": 5,
    "start_time": "2025-04-10T10:34:34.322Z"
   },
   {
    "duration": 951,
    "start_time": "2025-04-10T10:34:54.538Z"
   },
   {
    "duration": 1729,
    "start_time": "2025-04-10T10:37:16.342Z"
   },
   {
    "duration": 339,
    "start_time": "2025-04-10T10:37:54.400Z"
   },
   {
    "duration": 1753,
    "start_time": "2025-04-10T10:38:02.521Z"
   },
   {
    "duration": 797,
    "start_time": "2025-04-10T10:39:56.602Z"
   },
   {
    "duration": 835,
    "start_time": "2025-04-10T10:40:35.702Z"
   },
   {
    "duration": 1871,
    "start_time": "2025-04-10T10:42:16.262Z"
   },
   {
    "duration": 1905,
    "start_time": "2025-04-10T10:42:28.822Z"
   },
   {
    "duration": 2187,
    "start_time": "2025-04-10T10:43:01.682Z"
   },
   {
    "duration": 1859,
    "start_time": "2025-04-10T10:43:36.762Z"
   },
   {
    "duration": 1879,
    "start_time": "2025-04-10T10:58:52.749Z"
   },
   {
    "duration": 8,
    "start_time": "2025-04-10T11:00:11.316Z"
   },
   {
    "duration": 5,
    "start_time": "2025-04-10T11:00:33.214Z"
   },
   {
    "duration": 6,
    "start_time": "2025-04-10T11:00:46.545Z"
   },
   {
    "duration": 5,
    "start_time": "2025-04-10T11:23:54.233Z"
   },
   {
    "duration": 6,
    "start_time": "2025-04-10T11:24:03.273Z"
   },
   {
    "duration": 3,
    "start_time": "2025-04-10T11:35:05.713Z"
   },
   {
    "duration": 40,
    "start_time": "2025-04-10T11:35:05.719Z"
   },
   {
    "duration": 43,
    "start_time": "2025-04-10T11:35:05.834Z"
   },
   {
    "duration": 26,
    "start_time": "2025-04-10T11:35:05.879Z"
   },
   {
    "duration": 15,
    "start_time": "2025-04-10T11:35:05.906Z"
   },
   {
    "duration": 8,
    "start_time": "2025-04-10T11:35:05.923Z"
   },
   {
    "duration": 6,
    "start_time": "2025-04-10T11:35:05.964Z"
   },
   {
    "duration": 32,
    "start_time": "2025-04-10T11:35:05.972Z"
   },
   {
    "duration": 8,
    "start_time": "2025-04-10T11:35:06.005Z"
   },
   {
    "duration": 519,
    "start_time": "2025-04-10T11:35:06.015Z"
   },
   {
    "duration": 164,
    "start_time": "2025-04-10T11:35:06.537Z"
   },
   {
    "duration": 143,
    "start_time": "2025-04-10T11:35:06.703Z"
   },
   {
    "duration": 203,
    "start_time": "2025-04-10T11:35:06.848Z"
   },
   {
    "duration": 232,
    "start_time": "2025-04-10T11:35:07.053Z"
   },
   {
    "duration": 215,
    "start_time": "2025-04-10T11:35:07.286Z"
   },
   {
    "duration": 25,
    "start_time": "2025-04-10T11:35:07.504Z"
   },
   {
    "duration": 51,
    "start_time": "2025-04-10T11:35:07.531Z"
   },
   {
    "duration": 795,
    "start_time": "2025-04-10T11:35:07.584Z"
   },
   {
    "duration": 594,
    "start_time": "2025-04-10T11:35:08.382Z"
   },
   {
    "duration": 7469,
    "start_time": "2025-04-10T11:35:08.978Z"
   },
   {
    "duration": 13,
    "start_time": "2025-04-10T11:35:16.449Z"
   },
   {
    "duration": 42,
    "start_time": "2025-04-10T11:35:16.464Z"
   },
   {
    "duration": 12,
    "start_time": "2025-04-10T11:35:16.508Z"
   },
   {
    "duration": 1775,
    "start_time": "2025-04-10T11:35:16.521Z"
   },
   {
    "duration": 79,
    "start_time": "2025-04-10T11:35:18.298Z"
   },
   {
    "duration": 0,
    "start_time": "2025-04-10T11:35:18.379Z"
   },
   {
    "duration": 0,
    "start_time": "2025-04-10T11:35:18.380Z"
   },
   {
    "duration": 3,
    "start_time": "2025-04-10T11:35:30.289Z"
   },
   {
    "duration": 33,
    "start_time": "2025-04-10T11:35:30.333Z"
   },
   {
    "duration": 46,
    "start_time": "2025-04-10T11:35:30.384Z"
   },
   {
    "duration": 29,
    "start_time": "2025-04-10T11:35:30.432Z"
   },
   {
    "duration": 54,
    "start_time": "2025-04-10T11:35:30.473Z"
   },
   {
    "duration": 5,
    "start_time": "2025-04-10T11:35:30.529Z"
   },
   {
    "duration": 10,
    "start_time": "2025-04-10T11:35:30.536Z"
   },
   {
    "duration": 9,
    "start_time": "2025-04-10T11:35:30.548Z"
   },
   {
    "duration": 9,
    "start_time": "2025-04-10T11:35:30.578Z"
   },
   {
    "duration": 14,
    "start_time": "2025-04-10T11:35:30.589Z"
   },
   {
    "duration": 159,
    "start_time": "2025-04-10T11:35:30.618Z"
   },
   {
    "duration": 150,
    "start_time": "2025-04-10T11:35:30.779Z"
   },
   {
    "duration": 199,
    "start_time": "2025-04-10T11:35:30.931Z"
   },
   {
    "duration": 242,
    "start_time": "2025-04-10T11:35:31.132Z"
   },
   {
    "duration": 238,
    "start_time": "2025-04-10T11:35:31.375Z"
   },
   {
    "duration": 25,
    "start_time": "2025-04-10T11:35:31.615Z"
   },
   {
    "duration": 44,
    "start_time": "2025-04-10T11:35:31.642Z"
   },
   {
    "duration": 816,
    "start_time": "2025-04-10T11:35:31.688Z"
   },
   {
    "duration": 617,
    "start_time": "2025-04-10T11:35:32.506Z"
   },
   {
    "duration": 7701,
    "start_time": "2025-04-10T11:35:33.126Z"
   },
   {
    "duration": 6,
    "start_time": "2025-04-10T11:35:40.829Z"
   },
   {
    "duration": 83,
    "start_time": "2025-04-10T11:35:40.837Z"
   },
   {
    "duration": 8,
    "start_time": "2025-04-10T11:35:40.922Z"
   },
   {
    "duration": 1894,
    "start_time": "2025-04-10T11:35:40.932Z"
   },
   {
    "duration": 2094,
    "start_time": "2025-04-10T11:35:42.828Z"
   },
   {
    "duration": 5,
    "start_time": "2025-04-10T11:35:44.924Z"
   },
   {
    "duration": 1599,
    "start_time": "2025-04-10T11:36:29.612Z"
   },
   {
    "duration": 2312,
    "start_time": "2025-04-10T11:36:34.786Z"
   },
   {
    "duration": 0,
    "start_time": "2025-04-10T11:46:21.180Z"
   },
   {
    "duration": 14,
    "start_time": "2025-04-10T11:57:00.324Z"
   },
   {
    "duration": 13,
    "start_time": "2025-04-10T11:57:34.398Z"
   },
   {
    "duration": 25080,
    "start_time": "2025-04-10T11:57:59.858Z"
   },
   {
    "duration": 10,
    "start_time": "2025-04-10T12:02:23.540Z"
   },
   {
    "duration": 9,
    "start_time": "2025-04-10T12:02:31.990Z"
   },
   {
    "duration": 8,
    "start_time": "2025-04-10T12:02:37.909Z"
   },
   {
    "duration": 33,
    "start_time": "2025-04-10T12:10:13.728Z"
   },
   {
    "duration": 59,
    "start_time": "2025-04-10T12:12:59.619Z"
   },
   {
    "duration": 43,
    "start_time": "2025-04-10T12:12:59.680Z"
   },
   {
    "duration": 39,
    "start_time": "2025-04-10T12:12:59.725Z"
   },
   {
    "duration": 27,
    "start_time": "2025-04-10T12:12:59.766Z"
   },
   {
    "duration": 14,
    "start_time": "2025-04-10T12:12:59.795Z"
   },
   {
    "duration": 6,
    "start_time": "2025-04-10T12:12:59.811Z"
   },
   {
    "duration": 6,
    "start_time": "2025-04-10T12:12:59.819Z"
   },
   {
    "duration": 20,
    "start_time": "2025-04-10T12:12:59.827Z"
   },
   {
    "duration": 21,
    "start_time": "2025-04-10T12:12:59.849Z"
   },
   {
    "duration": 13,
    "start_time": "2025-04-10T12:12:59.872Z"
   },
   {
    "duration": 171,
    "start_time": "2025-04-10T12:12:59.886Z"
   },
   {
    "duration": 156,
    "start_time": "2025-04-10T12:13:00.060Z"
   },
   {
    "duration": 199,
    "start_time": "2025-04-10T12:13:00.218Z"
   },
   {
    "duration": 252,
    "start_time": "2025-04-10T12:13:00.420Z"
   },
   {
    "duration": 218,
    "start_time": "2025-04-10T12:13:00.674Z"
   },
   {
    "duration": 25,
    "start_time": "2025-04-10T12:13:00.894Z"
   },
   {
    "duration": 50,
    "start_time": "2025-04-10T12:13:00.921Z"
   },
   {
    "duration": 874,
    "start_time": "2025-04-10T12:13:00.973Z"
   },
   {
    "duration": 648,
    "start_time": "2025-04-10T12:13:01.849Z"
   },
   {
    "duration": 7732,
    "start_time": "2025-04-10T12:13:02.500Z"
   },
   {
    "duration": 6,
    "start_time": "2025-04-10T12:13:10.234Z"
   },
   {
    "duration": 24,
    "start_time": "2025-04-10T12:13:10.242Z"
   },
   {
    "duration": 83,
    "start_time": "2025-04-10T12:13:10.267Z"
   },
   {
    "duration": 1861,
    "start_time": "2025-04-10T12:13:10.352Z"
   },
   {
    "duration": 2135,
    "start_time": "2025-04-10T12:13:12.214Z"
   },
   {
    "duration": 12,
    "start_time": "2025-04-10T12:13:14.351Z"
   },
   {
    "duration": 3947,
    "start_time": "2025-04-10T12:13:14.365Z"
   },
   {
    "duration": 3759,
    "start_time": "2025-04-10T12:19:04.160Z"
   },
   {
    "duration": 6,
    "start_time": "2025-04-10T12:19:20.498Z"
   },
   {
    "duration": 3724,
    "start_time": "2025-04-10T12:19:34.139Z"
   },
   {
    "duration": 3594,
    "start_time": "2025-04-10T12:19:49.029Z"
   },
   {
    "duration": 3726,
    "start_time": "2025-04-10T12:20:52.309Z"
   },
   {
    "duration": 4,
    "start_time": "2025-04-10T12:24:29.321Z"
   },
   {
    "duration": 32,
    "start_time": "2025-04-10T12:24:29.327Z"
   },
   {
    "duration": 38,
    "start_time": "2025-04-10T12:24:29.361Z"
   },
   {
    "duration": 27,
    "start_time": "2025-04-10T12:24:29.401Z"
   },
   {
    "duration": 13,
    "start_time": "2025-04-10T12:24:29.431Z"
   },
   {
    "duration": 4,
    "start_time": "2025-04-10T12:24:29.446Z"
   },
   {
    "duration": 12,
    "start_time": "2025-04-10T12:24:29.452Z"
   },
   {
    "duration": 8,
    "start_time": "2025-04-10T12:24:29.466Z"
   },
   {
    "duration": 10,
    "start_time": "2025-04-10T12:24:29.476Z"
   },
   {
    "duration": 13,
    "start_time": "2025-04-10T12:24:29.487Z"
   },
   {
    "duration": 171,
    "start_time": "2025-04-10T12:24:29.502Z"
   },
   {
    "duration": 140,
    "start_time": "2025-04-10T12:24:29.674Z"
   },
   {
    "duration": 177,
    "start_time": "2025-04-10T12:24:29.815Z"
   },
   {
    "duration": 228,
    "start_time": "2025-04-10T12:24:29.995Z"
   },
   {
    "duration": 221,
    "start_time": "2025-04-10T12:24:30.225Z"
   },
   {
    "duration": 30,
    "start_time": "2025-04-10T12:24:30.448Z"
   },
   {
    "duration": 32,
    "start_time": "2025-04-10T12:24:30.479Z"
   },
   {
    "duration": 841,
    "start_time": "2025-04-10T12:24:30.513Z"
   },
   {
    "duration": 621,
    "start_time": "2025-04-10T12:24:31.355Z"
   },
   {
    "duration": 7327,
    "start_time": "2025-04-10T12:24:31.978Z"
   },
   {
    "duration": 6,
    "start_time": "2025-04-10T12:24:39.307Z"
   },
   {
    "duration": 7,
    "start_time": "2025-04-10T12:24:39.315Z"
   },
   {
    "duration": 38,
    "start_time": "2025-04-10T12:24:39.323Z"
   },
   {
    "duration": 1864,
    "start_time": "2025-04-10T12:24:39.363Z"
   },
   {
    "duration": 2052,
    "start_time": "2025-04-10T12:24:41.229Z"
   },
   {
    "duration": 6,
    "start_time": "2025-04-10T12:24:43.284Z"
   },
   {
    "duration": 3634,
    "start_time": "2025-04-10T12:24:43.292Z"
   },
   {
    "duration": 1458,
    "start_time": "2025-04-10T18:13:06.688Z"
   },
   {
    "duration": 86,
    "start_time": "2025-04-10T18:13:08.148Z"
   },
   {
    "duration": 86,
    "start_time": "2025-04-10T18:13:08.236Z"
   },
   {
    "duration": 61,
    "start_time": "2025-04-10T18:13:08.324Z"
   },
   {
    "duration": 15,
    "start_time": "2025-04-10T18:13:08.387Z"
   },
   {
    "duration": 25,
    "start_time": "2025-04-10T18:13:08.404Z"
   },
   {
    "duration": 25,
    "start_time": "2025-04-10T18:13:08.430Z"
   },
   {
    "duration": 8,
    "start_time": "2025-04-10T18:13:08.456Z"
   },
   {
    "duration": 28,
    "start_time": "2025-04-10T18:13:08.466Z"
   },
   {
    "duration": 30,
    "start_time": "2025-04-10T18:13:08.496Z"
   },
   {
    "duration": 176,
    "start_time": "2025-04-10T18:13:08.528Z"
   },
   {
    "duration": 146,
    "start_time": "2025-04-10T18:13:08.706Z"
   },
   {
    "duration": 209,
    "start_time": "2025-04-10T18:13:08.853Z"
   },
   {
    "duration": 249,
    "start_time": "2025-04-10T18:13:09.065Z"
   },
   {
    "duration": 223,
    "start_time": "2025-04-10T18:13:09.316Z"
   },
   {
    "duration": 30,
    "start_time": "2025-04-10T18:13:09.541Z"
   },
   {
    "duration": 30,
    "start_time": "2025-04-10T18:13:09.573Z"
   },
   {
    "duration": 943,
    "start_time": "2025-04-10T18:13:09.605Z"
   },
   {
    "duration": 678,
    "start_time": "2025-04-10T18:13:10.550Z"
   },
   {
    "duration": 7927,
    "start_time": "2025-04-10T18:13:11.230Z"
   },
   {
    "duration": 6,
    "start_time": "2025-04-10T18:13:19.159Z"
   },
   {
    "duration": 6,
    "start_time": "2025-04-10T18:13:19.166Z"
   },
   {
    "duration": 9,
    "start_time": "2025-04-10T18:13:19.174Z"
   },
   {
    "duration": 1636,
    "start_time": "2025-04-10T18:13:19.185Z"
   },
   {
    "duration": 1976,
    "start_time": "2025-04-10T18:13:20.823Z"
   },
   {
    "duration": 7,
    "start_time": "2025-04-10T18:13:22.800Z"
   },
   {
    "duration": 4207,
    "start_time": "2025-04-10T18:13:22.808Z"
   },
   {
    "duration": 4,
    "start_time": "2025-04-10T19:25:35.273Z"
   },
   {
    "duration": 64,
    "start_time": "2025-04-10T19:25:35.279Z"
   },
   {
    "duration": 43,
    "start_time": "2025-04-10T19:25:35.345Z"
   },
   {
    "duration": 27,
    "start_time": "2025-04-10T19:25:35.390Z"
   },
   {
    "duration": 14,
    "start_time": "2025-04-10T19:25:35.419Z"
   },
   {
    "duration": 5,
    "start_time": "2025-04-10T19:25:35.435Z"
   },
   {
    "duration": 8,
    "start_time": "2025-04-10T19:25:35.442Z"
   },
   {
    "duration": 23,
    "start_time": "2025-04-10T19:25:35.452Z"
   },
   {
    "duration": 9,
    "start_time": "2025-04-10T19:25:35.479Z"
   },
   {
    "duration": 25,
    "start_time": "2025-04-10T19:25:35.491Z"
   },
   {
    "duration": 168,
    "start_time": "2025-04-10T19:25:35.517Z"
   },
   {
    "duration": 147,
    "start_time": "2025-04-10T19:25:35.687Z"
   },
   {
    "duration": 201,
    "start_time": "2025-04-10T19:25:35.838Z"
   },
   {
    "duration": 242,
    "start_time": "2025-04-10T19:25:36.040Z"
   },
   {
    "duration": 431,
    "start_time": "2025-04-10T19:25:36.283Z"
   },
   {
    "duration": 36,
    "start_time": "2025-04-10T19:25:36.716Z"
   },
   {
    "duration": 30,
    "start_time": "2025-04-10T19:25:36.754Z"
   },
   {
    "duration": 877,
    "start_time": "2025-04-10T19:25:36.786Z"
   },
   {
    "duration": 641,
    "start_time": "2025-04-10T19:25:37.666Z"
   },
   {
    "duration": 7978,
    "start_time": "2025-04-10T19:25:38.309Z"
   },
   {
    "duration": 6,
    "start_time": "2025-04-10T19:25:46.289Z"
   },
   {
    "duration": 10,
    "start_time": "2025-04-10T19:25:46.297Z"
   },
   {
    "duration": 29,
    "start_time": "2025-04-10T19:25:46.309Z"
   },
   {
    "duration": 1615,
    "start_time": "2025-04-10T19:25:46.342Z"
   },
   {
    "duration": 1880,
    "start_time": "2025-04-10T19:25:47.959Z"
   },
   {
    "duration": 6,
    "start_time": "2025-04-10T19:25:49.841Z"
   },
   {
    "duration": 4065,
    "start_time": "2025-04-10T19:25:49.848Z"
   },
   {
    "duration": 1512,
    "start_time": "2025-04-11T06:24:54.927Z"
   },
   {
    "duration": 52,
    "start_time": "2025-04-11T06:24:56.441Z"
   },
   {
    "duration": 48,
    "start_time": "2025-04-11T06:24:56.495Z"
   },
   {
    "duration": 28,
    "start_time": "2025-04-11T06:24:56.546Z"
   },
   {
    "duration": 18,
    "start_time": "2025-04-11T06:24:56.576Z"
   },
   {
    "duration": 7,
    "start_time": "2025-04-11T06:24:56.596Z"
   },
   {
    "duration": 6,
    "start_time": "2025-04-11T06:24:56.605Z"
   },
   {
    "duration": 10,
    "start_time": "2025-04-11T06:24:56.640Z"
   },
   {
    "duration": 19,
    "start_time": "2025-04-11T06:24:56.652Z"
   },
   {
    "duration": 13,
    "start_time": "2025-04-11T06:24:56.674Z"
   },
   {
    "duration": 204,
    "start_time": "2025-04-11T06:24:56.689Z"
   },
   {
    "duration": 154,
    "start_time": "2025-04-11T06:24:56.895Z"
   },
   {
    "duration": 200,
    "start_time": "2025-04-11T06:24:57.051Z"
   },
   {
    "duration": 247,
    "start_time": "2025-04-11T06:24:57.253Z"
   },
   {
    "duration": 246,
    "start_time": "2025-04-11T06:24:57.502Z"
   },
   {
    "duration": 28,
    "start_time": "2025-04-11T06:24:57.751Z"
   },
   {
    "duration": 31,
    "start_time": "2025-04-11T06:24:57.781Z"
   },
   {
    "duration": 959,
    "start_time": "2025-04-11T06:24:57.813Z"
   },
   {
    "duration": 643,
    "start_time": "2025-04-11T06:24:58.774Z"
   },
   {
    "duration": 7777,
    "start_time": "2025-04-11T06:24:59.419Z"
   },
   {
    "duration": 6,
    "start_time": "2025-04-11T06:25:07.198Z"
   },
   {
    "duration": 120,
    "start_time": "2025-04-11T06:25:07.206Z"
   },
   {
    "duration": 32,
    "start_time": "2025-04-11T06:25:07.328Z"
   },
   {
    "duration": 1702,
    "start_time": "2025-04-11T06:25:07.362Z"
   },
   {
    "duration": 1998,
    "start_time": "2025-04-11T06:25:09.066Z"
   },
   {
    "duration": 6,
    "start_time": "2025-04-11T06:25:11.066Z"
   },
   {
    "duration": 4015,
    "start_time": "2025-04-11T06:25:11.074Z"
   },
   {
    "duration": 6,
    "start_time": "2025-04-11T06:30:08.054Z"
   },
   {
    "duration": 1226,
    "start_time": "2025-04-11T06:35:58.464Z"
   },
   {
    "duration": 41,
    "start_time": "2025-04-11T06:35:59.692Z"
   },
   {
    "duration": 45,
    "start_time": "2025-04-11T06:35:59.739Z"
   },
   {
    "duration": 27,
    "start_time": "2025-04-11T06:35:59.786Z"
   },
   {
    "duration": 19,
    "start_time": "2025-04-11T06:35:59.815Z"
   },
   {
    "duration": 5,
    "start_time": "2025-04-11T06:35:59.836Z"
   },
   {
    "duration": 8,
    "start_time": "2025-04-11T06:35:59.842Z"
   },
   {
    "duration": 23,
    "start_time": "2025-04-11T06:35:59.851Z"
   },
   {
    "duration": 9,
    "start_time": "2025-04-11T06:35:59.875Z"
   },
   {
    "duration": 12,
    "start_time": "2025-04-11T06:35:59.887Z"
   },
   {
    "duration": 187,
    "start_time": "2025-04-11T06:35:59.901Z"
   },
   {
    "duration": 143,
    "start_time": "2025-04-11T06:36:00.090Z"
   },
   {
    "duration": 202,
    "start_time": "2025-04-11T06:36:00.239Z"
   },
   {
    "duration": 244,
    "start_time": "2025-04-11T06:36:00.443Z"
   },
   {
    "duration": 229,
    "start_time": "2025-04-11T06:36:00.689Z"
   },
   {
    "duration": 42,
    "start_time": "2025-04-11T06:36:00.920Z"
   },
   {
    "duration": 41,
    "start_time": "2025-04-11T06:36:00.963Z"
   },
   {
    "duration": 964,
    "start_time": "2025-04-11T06:36:01.007Z"
   },
   {
    "duration": 605,
    "start_time": "2025-04-11T06:36:01.973Z"
   },
   {
    "duration": 7660,
    "start_time": "2025-04-11T06:36:02.580Z"
   },
   {
    "duration": 6,
    "start_time": "2025-04-11T06:36:10.242Z"
   },
   {
    "duration": 10,
    "start_time": "2025-04-11T06:36:10.250Z"
   },
   {
    "duration": 11,
    "start_time": "2025-04-11T06:36:10.261Z"
   },
   {
    "duration": 1647,
    "start_time": "2025-04-11T06:36:10.274Z"
   },
   {
    "duration": 1965,
    "start_time": "2025-04-11T06:36:11.923Z"
   },
   {
    "duration": 7,
    "start_time": "2025-04-11T06:36:13.889Z"
   },
   {
    "duration": 3970,
    "start_time": "2025-04-11T06:36:13.898Z"
   },
   {
    "duration": 90,
    "start_time": "2025-04-11T16:54:49.848Z"
   },
   {
    "duration": 1468,
    "start_time": "2025-04-11T17:14:39.627Z"
   },
   {
    "duration": 38,
    "start_time": "2025-04-11T17:14:41.097Z"
   },
   {
    "duration": 46,
    "start_time": "2025-04-11T17:14:41.137Z"
   },
   {
    "duration": 27,
    "start_time": "2025-04-11T17:14:41.185Z"
   },
   {
    "duration": 16,
    "start_time": "2025-04-11T17:14:41.215Z"
   },
   {
    "duration": 7,
    "start_time": "2025-04-11T17:14:41.233Z"
   },
   {
    "duration": 7,
    "start_time": "2025-04-11T17:14:41.241Z"
   },
   {
    "duration": 65,
    "start_time": "2025-04-11T17:14:41.250Z"
   },
   {
    "duration": 6,
    "start_time": "2025-04-11T17:14:41.317Z"
   },
   {
    "duration": 9,
    "start_time": "2025-04-11T17:14:41.325Z"
   },
   {
    "duration": 25,
    "start_time": "2025-04-11T17:14:41.336Z"
   },
   {
    "duration": 184,
    "start_time": "2025-04-11T17:14:41.363Z"
   },
   {
    "duration": 144,
    "start_time": "2025-04-11T17:14:41.549Z"
   },
   {
    "duration": 201,
    "start_time": "2025-04-11T17:14:41.695Z"
   },
   {
    "duration": 249,
    "start_time": "2025-04-11T17:14:41.898Z"
   },
   {
    "duration": 218,
    "start_time": "2025-04-11T17:14:42.149Z"
   },
   {
    "duration": 36,
    "start_time": "2025-04-11T17:14:42.369Z"
   },
   {
    "duration": 30,
    "start_time": "2025-04-11T17:14:42.407Z"
   },
   {
    "duration": 946,
    "start_time": "2025-04-11T17:14:42.439Z"
   },
   {
    "duration": 640,
    "start_time": "2025-04-11T17:14:43.387Z"
   },
   {
    "duration": 7961,
    "start_time": "2025-04-11T17:14:44.029Z"
   },
   {
    "duration": 13,
    "start_time": "2025-04-11T17:14:51.992Z"
   },
   {
    "duration": 38,
    "start_time": "2025-04-11T17:14:52.007Z"
   },
   {
    "duration": 31,
    "start_time": "2025-04-11T17:14:52.046Z"
   },
   {
    "duration": 1613,
    "start_time": "2025-04-11T17:14:52.079Z"
   },
   {
    "duration": 1965,
    "start_time": "2025-04-11T17:14:53.694Z"
   },
   {
    "duration": 7,
    "start_time": "2025-04-11T17:14:55.660Z"
   },
   {
    "duration": 4081,
    "start_time": "2025-04-11T17:14:55.672Z"
   },
   {
    "duration": 5,
    "start_time": "2025-04-11T17:15:56.572Z"
   },
   {
    "duration": 5,
    "start_time": "2025-04-11T17:19:48.499Z"
   },
   {
    "duration": 147,
    "start_time": "2025-04-11T17:32:41.462Z"
   },
   {
    "duration": 188,
    "start_time": "2025-04-11T17:32:58.132Z"
   },
   {
    "duration": 159,
    "start_time": "2025-04-11T17:37:54.374Z"
   },
   {
    "duration": 164,
    "start_time": "2025-04-11T17:38:00.740Z"
   },
   {
    "duration": 168,
    "start_time": "2025-04-11T18:05:04.166Z"
   },
   {
    "duration": 373,
    "start_time": "2025-04-11T18:07:21.429Z"
   },
   {
    "duration": 162,
    "start_time": "2025-04-11T18:08:18.076Z"
   },
   {
    "duration": 145,
    "start_time": "2025-04-11T18:08:33.941Z"
   },
   {
    "duration": 145,
    "start_time": "2025-04-11T18:09:33.338Z"
   },
   {
    "duration": 6,
    "start_time": "2025-04-11T18:11:14.621Z"
   },
   {
    "duration": 155,
    "start_time": "2025-04-11T18:11:22.207Z"
   },
   {
    "duration": 6,
    "start_time": "2025-04-11T18:11:51.112Z"
   },
   {
    "duration": 7,
    "start_time": "2025-04-11T18:12:01.278Z"
   },
   {
    "duration": 252,
    "start_time": "2025-04-11T18:14:10.605Z"
   },
   {
    "duration": 160,
    "start_time": "2025-04-11T18:14:17.106Z"
   },
   {
    "duration": 150,
    "start_time": "2025-04-11T18:18:08.016Z"
   },
   {
    "duration": 173,
    "start_time": "2025-04-11T18:18:20.745Z"
   },
   {
    "duration": 158,
    "start_time": "2025-04-11T18:18:43.064Z"
   },
   {
    "duration": 144,
    "start_time": "2025-04-11T18:18:54.361Z"
   },
   {
    "duration": 153,
    "start_time": "2025-04-11T18:19:11.413Z"
   },
   {
    "duration": 242,
    "start_time": "2025-04-11T18:20:30.916Z"
   },
   {
    "duration": 100,
    "start_time": "2025-04-11T18:23:44.994Z"
   },
   {
    "duration": 87,
    "start_time": "2025-04-11T18:24:06.518Z"
   },
   {
    "duration": 113,
    "start_time": "2025-04-11T18:25:15.581Z"
   },
   {
    "duration": 104,
    "start_time": "2025-04-11T18:25:58.574Z"
   },
   {
    "duration": 106,
    "start_time": "2025-04-11T18:26:54.617Z"
   },
   {
    "duration": 111,
    "start_time": "2025-04-11T18:27:01.717Z"
   },
   {
    "duration": 12,
    "start_time": "2025-04-11T18:27:33.292Z"
   },
   {
    "duration": 115,
    "start_time": "2025-04-11T18:30:39.317Z"
   },
   {
    "duration": 127,
    "start_time": "2025-04-11T18:33:16.493Z"
   },
   {
    "duration": 140,
    "start_time": "2025-04-11T18:33:26.519Z"
   },
   {
    "duration": 121,
    "start_time": "2025-04-11T18:33:35.140Z"
   },
   {
    "duration": 172,
    "start_time": "2025-04-11T18:37:23.082Z"
   },
   {
    "duration": 12,
    "start_time": "2025-04-11T18:40:11.439Z"
   },
   {
    "duration": 121,
    "start_time": "2025-04-11T18:43:44.181Z"
   },
   {
    "duration": 127,
    "start_time": "2025-04-11T18:46:07.617Z"
   },
   {
    "duration": 119,
    "start_time": "2025-04-11T18:46:30.554Z"
   },
   {
    "duration": 131,
    "start_time": "2025-04-11T18:46:55.232Z"
   },
   {
    "duration": 121,
    "start_time": "2025-04-11T18:47:46.232Z"
   },
   {
    "duration": 233,
    "start_time": "2025-04-11T18:48:28.870Z"
   },
   {
    "duration": 119,
    "start_time": "2025-04-11T18:48:33.677Z"
   },
   {
    "duration": 135,
    "start_time": "2025-04-11T18:48:47.596Z"
   },
   {
    "duration": 123,
    "start_time": "2025-04-11T18:49:09.494Z"
   },
   {
    "duration": 118,
    "start_time": "2025-04-11T18:49:25.081Z"
   },
   {
    "duration": 1337,
    "start_time": "2025-04-11T18:52:06.038Z"
   },
   {
    "duration": 215,
    "start_time": "2025-04-11T18:52:27.859Z"
   },
   {
    "duration": 281,
    "start_time": "2025-04-11T18:52:35.515Z"
   },
   {
    "duration": 206,
    "start_time": "2025-04-11T18:53:24.043Z"
   },
   {
    "duration": 205,
    "start_time": "2025-04-11T18:53:33.260Z"
   },
   {
    "duration": 1549,
    "start_time": "2025-04-11T18:54:36.543Z"
   },
   {
    "duration": 258,
    "start_time": "2025-04-11T18:54:53.304Z"
   },
   {
    "duration": 252,
    "start_time": "2025-04-11T18:55:47.959Z"
   },
   {
    "duration": 18,
    "start_time": "2025-04-11T19:02:48.798Z"
   },
   {
    "duration": 9,
    "start_time": "2025-04-11T19:03:49.862Z"
   },
   {
    "duration": 18,
    "start_time": "2025-04-11T19:03:56.804Z"
   },
   {
    "duration": 13,
    "start_time": "2025-04-11T19:04:10.259Z"
   },
   {
    "duration": 14,
    "start_time": "2025-04-11T19:06:27.225Z"
   },
   {
    "duration": 9,
    "start_time": "2025-04-11T19:06:39.376Z"
   },
   {
    "duration": 6,
    "start_time": "2025-04-11T19:07:32.313Z"
   },
   {
    "duration": 19,
    "start_time": "2025-04-11T19:07:37.717Z"
   },
   {
    "duration": 12,
    "start_time": "2025-04-11T19:08:07.088Z"
   },
   {
    "duration": 18,
    "start_time": "2025-04-11T19:10:45.508Z"
   },
   {
    "duration": 12,
    "start_time": "2025-04-11T19:16:03.976Z"
   },
   {
    "duration": 19,
    "start_time": "2025-04-11T19:16:23.072Z"
   },
   {
    "duration": 4,
    "start_time": "2025-04-11T19:25:30.097Z"
   },
   {
    "duration": 14,
    "start_time": "2025-04-11T19:25:44.458Z"
   },
   {
    "duration": 22,
    "start_time": "2025-04-11T19:27:55.434Z"
   },
   {
    "duration": 22,
    "start_time": "2025-04-11T19:37:50.351Z"
   },
   {
    "duration": 31,
    "start_time": "2025-04-11T19:38:46.504Z"
   },
   {
    "duration": 23,
    "start_time": "2025-04-11T19:42:20.928Z"
   },
   {
    "duration": 27,
    "start_time": "2025-04-11T19:52:57.148Z"
   },
   {
    "duration": 56,
    "start_time": "2025-04-11T19:53:12.181Z"
   },
   {
    "duration": 45,
    "start_time": "2025-04-11T19:53:40.381Z"
   },
   {
    "duration": 4,
    "start_time": "2025-04-11T19:55:31.830Z"
   },
   {
    "duration": 42,
    "start_time": "2025-04-11T19:55:31.836Z"
   },
   {
    "duration": 49,
    "start_time": "2025-04-11T19:55:31.880Z"
   },
   {
    "duration": 28,
    "start_time": "2025-04-11T19:55:31.932Z"
   },
   {
    "duration": 15,
    "start_time": "2025-04-11T19:55:31.962Z"
   },
   {
    "duration": 14,
    "start_time": "2025-04-11T19:55:31.979Z"
   },
   {
    "duration": 29,
    "start_time": "2025-04-11T19:55:31.994Z"
   },
   {
    "duration": 8,
    "start_time": "2025-04-11T19:55:32.029Z"
   },
   {
    "duration": 19,
    "start_time": "2025-04-11T19:55:32.038Z"
   },
   {
    "duration": 12,
    "start_time": "2025-04-11T19:55:32.059Z"
   },
   {
    "duration": 36,
    "start_time": "2025-04-11T19:55:32.072Z"
   },
   {
    "duration": 181,
    "start_time": "2025-04-11T19:55:32.110Z"
   },
   {
    "duration": 37,
    "start_time": "2025-04-11T19:55:32.294Z"
   },
   {
    "duration": 227,
    "start_time": "2025-04-11T19:55:32.334Z"
   },
   {
    "duration": 231,
    "start_time": "2025-04-11T19:55:32.562Z"
   },
   {
    "duration": 268,
    "start_time": "2025-04-11T19:55:32.795Z"
   },
   {
    "duration": 23,
    "start_time": "2025-04-11T19:55:33.064Z"
   },
   {
    "duration": 344,
    "start_time": "2025-04-11T19:55:33.090Z"
   },
   {
    "duration": 21,
    "start_time": "2025-04-11T19:55:33.436Z"
   },
   {
    "duration": 42,
    "start_time": "2025-04-11T19:55:33.459Z"
   },
   {
    "duration": 52,
    "start_time": "2025-04-11T19:55:33.502Z"
   },
   {
    "duration": 29,
    "start_time": "2025-04-11T19:55:33.556Z"
   },
   {
    "duration": 1060,
    "start_time": "2025-04-11T19:55:33.587Z"
   },
   {
    "duration": 695,
    "start_time": "2025-04-11T19:55:34.648Z"
   },
   {
    "duration": 8441,
    "start_time": "2025-04-11T19:55:35.345Z"
   },
   {
    "duration": 6,
    "start_time": "2025-04-11T19:55:43.788Z"
   },
   {
    "duration": 183,
    "start_time": "2025-04-11T19:55:43.804Z"
   },
   {
    "duration": 35,
    "start_time": "2025-04-11T19:55:43.988Z"
   },
   {
    "duration": 1788,
    "start_time": "2025-04-11T19:55:44.025Z"
   },
   {
    "duration": 2120,
    "start_time": "2025-04-11T19:55:45.825Z"
   },
   {
    "duration": 7,
    "start_time": "2025-04-11T19:55:47.947Z"
   },
   {
    "duration": 4519,
    "start_time": "2025-04-11T19:55:47.955Z"
   },
   {
    "duration": 104,
    "start_time": "2025-04-11T19:59:22.002Z"
   },
   {
    "duration": 81,
    "start_time": "2025-04-11T19:59:30.154Z"
   },
   {
    "duration": 1151,
    "start_time": "2025-04-11T19:59:42.628Z"
   },
   {
    "duration": 473,
    "start_time": "2025-04-11T20:00:23.364Z"
   },
   {
    "duration": 1031,
    "start_time": "2025-04-11T20:00:48.085Z"
   },
   {
    "duration": 1174,
    "start_time": "2025-04-11T20:01:43.181Z"
   },
   {
    "duration": 1002,
    "start_time": "2025-04-11T20:02:36.858Z"
   },
   {
    "duration": 782,
    "start_time": "2025-04-11T20:02:51.953Z"
   },
   {
    "duration": 633,
    "start_time": "2025-04-11T20:08:21.866Z"
   },
   {
    "duration": 648,
    "start_time": "2025-04-11T20:08:30.877Z"
   },
   {
    "duration": 564,
    "start_time": "2025-04-11T20:09:14.177Z"
   },
   {
    "duration": 437,
    "start_time": "2025-04-11T20:09:59.431Z"
   },
   {
    "duration": 680,
    "start_time": "2025-04-11T20:10:27.253Z"
   },
   {
    "duration": 726,
    "start_time": "2025-04-11T20:10:45.538Z"
   },
   {
    "duration": 684,
    "start_time": "2025-04-11T20:10:59.230Z"
   },
   {
    "duration": 96,
    "start_time": "2025-04-11T20:19:19.098Z"
   },
   {
    "duration": 79,
    "start_time": "2025-04-11T20:21:21.235Z"
   },
   {
    "duration": 70,
    "start_time": "2025-04-11T20:22:29.878Z"
   },
   {
    "duration": 8873,
    "start_time": "2025-04-11T20:39:33.801Z"
   },
   {
    "duration": 51,
    "start_time": "2025-04-11T20:43:10.127Z"
   },
   {
    "duration": 66,
    "start_time": "2025-04-11T20:50:40.265Z"
   },
   {
    "duration": 51,
    "start_time": "2025-04-11T20:50:46.446Z"
   },
   {
    "duration": 3,
    "start_time": "2025-04-11T20:52:19.184Z"
   },
   {
    "duration": 48,
    "start_time": "2025-04-11T20:52:19.189Z"
   },
   {
    "duration": 51,
    "start_time": "2025-04-11T20:52:19.239Z"
   },
   {
    "duration": 50,
    "start_time": "2025-04-11T20:52:19.293Z"
   },
   {
    "duration": 17,
    "start_time": "2025-04-11T20:52:19.345Z"
   },
   {
    "duration": 12,
    "start_time": "2025-04-11T20:52:19.365Z"
   },
   {
    "duration": 12,
    "start_time": "2025-04-11T20:52:19.380Z"
   },
   {
    "duration": 18,
    "start_time": "2025-04-11T20:52:19.394Z"
   },
   {
    "duration": 8,
    "start_time": "2025-04-11T20:52:19.417Z"
   },
   {
    "duration": 15,
    "start_time": "2025-04-11T20:52:19.429Z"
   },
   {
    "duration": 14,
    "start_time": "2025-04-11T20:52:19.446Z"
   },
   {
    "duration": 197,
    "start_time": "2025-04-11T20:52:19.462Z"
   },
   {
    "duration": 7,
    "start_time": "2025-04-11T20:52:19.660Z"
   },
   {
    "duration": 186,
    "start_time": "2025-04-11T20:52:19.668Z"
   },
   {
    "duration": 230,
    "start_time": "2025-04-11T20:52:19.856Z"
   },
   {
    "duration": 273,
    "start_time": "2025-04-11T20:52:20.088Z"
   },
   {
    "duration": 21,
    "start_time": "2025-04-11T20:52:20.363Z"
   },
   {
    "duration": 371,
    "start_time": "2025-04-11T20:52:20.386Z"
   },
   {
    "duration": 19,
    "start_time": "2025-04-11T20:52:20.758Z"
   },
   {
    "duration": 42,
    "start_time": "2025-04-11T20:52:20.779Z"
   },
   {
    "duration": 37,
    "start_time": "2025-04-11T20:52:20.831Z"
   },
   {
    "duration": 76,
    "start_time": "2025-04-11T20:52:20.870Z"
   },
   {
    "duration": 766,
    "start_time": "2025-04-11T20:52:20.948Z"
   },
   {
    "duration": 699,
    "start_time": "2025-04-11T20:52:21.721Z"
   },
   {
    "duration": 55,
    "start_time": "2025-04-11T20:52:22.428Z"
   },
   {
    "duration": 6,
    "start_time": "2025-04-11T20:52:22.484Z"
   },
   {
    "duration": 114,
    "start_time": "2025-04-11T20:52:22.491Z"
   },
   {
    "duration": 36,
    "start_time": "2025-04-11T20:52:22.609Z"
   },
   {
    "duration": 1730,
    "start_time": "2025-04-11T20:52:22.646Z"
   },
   {
    "duration": 2198,
    "start_time": "2025-04-11T20:52:24.378Z"
   },
   {
    "duration": 7,
    "start_time": "2025-04-11T20:52:26.577Z"
   },
   {
    "duration": 4411,
    "start_time": "2025-04-11T20:52:26.586Z"
   },
   {
    "duration": 1809,
    "start_time": "2025-04-11T20:58:25.376Z"
   },
   {
    "duration": 1731,
    "start_time": "2025-04-11T20:58:39.460Z"
   },
   {
    "duration": 1808,
    "start_time": "2025-04-11T21:00:05.472Z"
   },
   {
    "duration": 30,
    "start_time": "2025-04-11T21:23:40.255Z"
   },
   {
    "duration": 29,
    "start_time": "2025-04-11T21:23:55.332Z"
   },
   {
    "duration": 5,
    "start_time": "2025-04-11T21:24:03.862Z"
   },
   {
    "duration": 36,
    "start_time": "2025-04-11T21:24:11.575Z"
   },
   {
    "duration": 8,
    "start_time": "2025-04-11T21:45:35.129Z"
   },
   {
    "duration": 11,
    "start_time": "2025-04-11T21:45:47.036Z"
   },
   {
    "duration": 6,
    "start_time": "2025-04-11T21:46:00.093Z"
   },
   {
    "duration": 12,
    "start_time": "2025-04-11T21:46:10.402Z"
   },
   {
    "duration": 6,
    "start_time": "2025-04-11T21:46:26.957Z"
   },
   {
    "duration": 6,
    "start_time": "2025-04-11T21:46:31.953Z"
   },
   {
    "duration": 8,
    "start_time": "2025-04-11T21:46:40.521Z"
   },
   {
    "duration": 6,
    "start_time": "2025-04-11T21:46:53.695Z"
   },
   {
    "duration": 10,
    "start_time": "2025-04-11T21:54:09.179Z"
   },
   {
    "duration": 6,
    "start_time": "2025-04-11T21:55:37.196Z"
   },
   {
    "duration": 1207,
    "start_time": "2025-04-11T21:58:34.188Z"
   },
   {
    "duration": 4,
    "start_time": "2025-04-11T21:59:56.524Z"
   },
   {
    "duration": 54,
    "start_time": "2025-04-11T21:59:56.532Z"
   },
   {
    "duration": 54,
    "start_time": "2025-04-11T21:59:56.588Z"
   },
   {
    "duration": 26,
    "start_time": "2025-04-11T21:59:56.644Z"
   },
   {
    "duration": 14,
    "start_time": "2025-04-11T21:59:56.673Z"
   },
   {
    "duration": 30,
    "start_time": "2025-04-11T21:59:56.688Z"
   },
   {
    "duration": 67,
    "start_time": "2025-04-11T21:59:56.720Z"
   },
   {
    "duration": 10,
    "start_time": "2025-04-11T21:59:56.789Z"
   },
   {
    "duration": 13,
    "start_time": "2025-04-11T21:59:56.801Z"
   },
   {
    "duration": 12,
    "start_time": "2025-04-11T21:59:56.816Z"
   },
   {
    "duration": 14,
    "start_time": "2025-04-11T21:59:56.830Z"
   },
   {
    "duration": 186,
    "start_time": "2025-04-11T21:59:56.846Z"
   },
   {
    "duration": 7,
    "start_time": "2025-04-11T21:59:57.034Z"
   },
   {
    "duration": 153,
    "start_time": "2025-04-11T21:59:57.043Z"
   },
   {
    "duration": 233,
    "start_time": "2025-04-11T21:59:57.198Z"
   },
   {
    "duration": 299,
    "start_time": "2025-04-11T21:59:57.433Z"
   },
   {
    "duration": 23,
    "start_time": "2025-04-11T21:59:57.734Z"
   },
   {
    "duration": 295,
    "start_time": "2025-04-11T21:59:57.759Z"
   },
   {
    "duration": 19,
    "start_time": "2025-04-11T21:59:58.056Z"
   },
   {
    "duration": 27,
    "start_time": "2025-04-11T21:59:58.077Z"
   },
   {
    "duration": 47,
    "start_time": "2025-04-11T21:59:58.109Z"
   },
   {
    "duration": 91,
    "start_time": "2025-04-11T21:59:58.157Z"
   },
   {
    "duration": 900,
    "start_time": "2025-04-11T21:59:58.252Z"
   },
   {
    "duration": 721,
    "start_time": "2025-04-11T21:59:59.154Z"
   },
   {
    "duration": 69,
    "start_time": "2025-04-11T21:59:59.877Z"
   },
   {
    "duration": 5,
    "start_time": "2025-04-11T21:59:59.948Z"
   },
   {
    "duration": 128,
    "start_time": "2025-04-11T21:59:59.955Z"
   },
   {
    "duration": 41,
    "start_time": "2025-04-11T22:00:00.085Z"
   },
   {
    "duration": 1772,
    "start_time": "2025-04-11T22:00:00.128Z"
   },
   {
    "duration": 2181,
    "start_time": "2025-04-11T22:00:01.902Z"
   },
   {
    "duration": 44,
    "start_time": "2025-04-11T22:00:04.085Z"
   },
   {
    "duration": 4445,
    "start_time": "2025-04-11T22:00:04.132Z"
   },
   {
    "duration": 1003,
    "start_time": "2025-04-11T22:00:08.579Z"
   },
   {
    "duration": 1134,
    "start_time": "2025-04-12T14:23:49.682Z"
   },
   {
    "duration": 45,
    "start_time": "2025-04-12T14:23:50.818Z"
   },
   {
    "duration": 42,
    "start_time": "2025-04-12T14:23:50.864Z"
   },
   {
    "duration": 25,
    "start_time": "2025-04-12T14:23:50.909Z"
   },
   {
    "duration": 21,
    "start_time": "2025-04-12T14:23:50.935Z"
   },
   {
    "duration": 47,
    "start_time": "2025-04-12T14:23:50.957Z"
   },
   {
    "duration": 43,
    "start_time": "2025-04-12T14:23:51.005Z"
   },
   {
    "duration": 21,
    "start_time": "2025-04-12T14:23:51.050Z"
   },
   {
    "duration": 10,
    "start_time": "2025-04-12T14:23:51.072Z"
   },
   {
    "duration": 9,
    "start_time": "2025-04-12T14:23:51.084Z"
   },
   {
    "duration": 11,
    "start_time": "2025-04-12T14:23:51.095Z"
   },
   {
    "duration": 163,
    "start_time": "2025-04-12T14:23:51.107Z"
   },
   {
    "duration": 6,
    "start_time": "2025-04-12T14:23:51.272Z"
   },
   {
    "duration": 139,
    "start_time": "2025-04-12T14:23:51.280Z"
   },
   {
    "duration": 201,
    "start_time": "2025-04-12T14:23:51.421Z"
   },
   {
    "duration": 241,
    "start_time": "2025-04-12T14:23:51.624Z"
   },
   {
    "duration": 20,
    "start_time": "2025-04-12T14:23:51.867Z"
   },
   {
    "duration": 233,
    "start_time": "2025-04-12T14:23:51.888Z"
   },
   {
    "duration": 34,
    "start_time": "2025-04-12T14:23:52.123Z"
   },
   {
    "duration": 12,
    "start_time": "2025-04-12T14:23:52.158Z"
   },
   {
    "duration": 47,
    "start_time": "2025-04-12T14:23:52.172Z"
   },
   {
    "duration": 69,
    "start_time": "2025-04-12T14:23:52.221Z"
   },
   {
    "duration": 731,
    "start_time": "2025-04-12T14:23:52.292Z"
   },
   {
    "duration": 658,
    "start_time": "2025-04-12T14:23:53.025Z"
   },
   {
    "duration": 65,
    "start_time": "2025-04-12T14:23:53.685Z"
   },
   {
    "duration": 5,
    "start_time": "2025-04-12T14:23:53.752Z"
   },
   {
    "duration": 5,
    "start_time": "2025-04-12T14:23:53.759Z"
   },
   {
    "duration": 7,
    "start_time": "2025-04-12T14:23:53.767Z"
   },
   {
    "duration": 1618,
    "start_time": "2025-04-12T14:23:53.775Z"
   },
   {
    "duration": 1904,
    "start_time": "2025-04-12T14:23:55.395Z"
   },
   {
    "duration": 49,
    "start_time": "2025-04-12T14:23:57.300Z"
   },
   {
    "duration": 3901,
    "start_time": "2025-04-12T14:23:57.351Z"
   },
   {
    "duration": 941,
    "start_time": "2025-04-12T14:24:01.254Z"
   },
   {
    "duration": 7,
    "start_time": "2025-04-12T14:25:02.027Z"
   }
  ],
  "kernelspec": {
   "display_name": "Python [conda env:conda_env] *",
   "language": "python",
   "name": "conda-env-conda_env-py"
  },
  "language_info": {
   "codemirror_mode": {
    "name": "ipython",
    "version": 3
   },
   "file_extension": ".py",
   "mimetype": "text/x-python",
   "name": "python",
   "nbconvert_exporter": "python",
   "pygments_lexer": "ipython3",
   "version": "3.13.5"
  },
  "toc": {
   "base_numbering": 1,
   "nav_menu": {},
   "number_sections": true,
   "sideBar": true,
   "skip_h1_title": true,
   "title_cell": "Table of Contents",
   "title_sidebar": "Contents",
   "toc_cell": false,
   "toc_position": {},
   "toc_section_display": true,
   "toc_window_display": false
  }
 },
 "nbformat": 4,
 "nbformat_minor": 5
}
